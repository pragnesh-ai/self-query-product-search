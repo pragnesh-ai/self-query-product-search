{
  "cells": [
    {
      "cell_type": "markdown",
      "source": [],
      "metadata": {
        "id": "MG8u4JpSqv0U"
      }
    },
    {
      "cell_type": "code",
      "execution_count": 45,
      "metadata": {
        "id": "yJmLqzK6JagA"
      },
      "outputs": [],
      "source": [
        "import pandas as pd\n",
        "df = pd.read_csv('https://query.data.world/s/b44zo5ntiszic5qat6jjmuecniu4z2?dws=00000')[:10]"
      ]
    },
    {
      "cell_type": "code",
      "execution_count": 46,
      "metadata": {
        "colab": {
          "base_uri": "https://localhost:8080/",
          "height": 499
        },
        "id": "mfkgfd3_gJbT",
        "outputId": "c52abca6-48f7-48d9-93df-8c89d09b8d78"
      },
      "outputs": [
        {
          "output_type": "execute_result",
          "data": {
            "text/plain": [
              "                                               title  \\\n",
              "0        Bastex Back Cover for Moto G9  (Multicolor)   \n",
              "1  Devilart Back Cover for Lava X11  (Multicolor,...   \n",
              "2  SY Gifts Back Cover for Apple iPhone 7  (Multi...   \n",
              "3  Exclusivebay Back Cover for Micromax Canvas 5 ...   \n",
              "4  Coolboys Back Cover for Tecno KE-6 / KE6  (Pur...   \n",
              "\n",
              "                                                 url               pid  \\\n",
              "0  https://www.flipkart.com/bastex-back-cover-mot...  itmb772e270a8476   \n",
              "1  https://www.flipkart.com/devilart-back-cover-l...  itmfbqyhwqvedcdn   \n",
              "2  https://www.flipkart.com/sy-gifts-back-cover-a...  itm99e6ac4c0b9cd   \n",
              "3  https://www.flipkart.com/exclusivebay-back-cov...  itmafcf69ec9cf97   \n",
              "4  https://www.flipkart.com/coolboys-back-cover-t...  itm414c308bcbb71   \n",
              "\n",
              "                                       formatted_url brand  \\\n",
              "0  https://www.flipkart.com/product/p/itmb772e270...   NaN   \n",
              "1  https://www.flipkart.com/product/p/itmfbqyhwqv...   NaN   \n",
              "2  https://www.flipkart.com/product/p/itm99e6ac4c...   NaN   \n",
              "3  https://www.flipkart.com/product/p/itmafcf69ec...   NaN   \n",
              "4  https://www.flipkart.com/product/p/itm414c308b...   NaN   \n",
              "\n",
              "                 stock  f_assured price currency original_price  ...  \\\n",
              "0                  NaN      False   219      INR            999  ...   \n",
              "1                  NaN      False   188      INR            659  ...   \n",
              "2                  NaN      False   199      INR            599  ...   \n",
              "3  Hurry, Only 5 left!       True   219      INR            999  ...   \n",
              "4                  NaN      False   197      INR            659  ...   \n",
              "\n",
              "                            formatted_specifications avg_rating reviews_count  \\\n",
              "0  Sales Package: 1 Mobile Cover | Model Number: ...        NaN           NaN   \n",
              "1  Sales Package: 1 Designer Case | Model Number:...        NaN           NaN   \n",
              "2  Sales Package: 1 Mobile Back Cover | Model Num...        NaN           NaN   \n",
              "3                                                NaN        NaN           NaN   \n",
              "4  Sales Package: 1 Designer soft Silicon Cover |...        NaN           NaN   \n",
              "\n",
              "   category sub_category_1 sub_category_2 breadcrumbs payment_options  \\\n",
              "0       NaN            NaN            NaN         NaN             NaN   \n",
              "1       NaN            NaN            NaN         NaN             NaN   \n",
              "2       NaN            NaN            NaN         NaN             NaN   \n",
              "3       NaN            NaN            NaN         NaN             NaN   \n",
              "4       NaN            NaN            NaN         NaN             NaN   \n",
              "\n",
              "                                uniq_id  scraped_at  \n",
              "0  3fff7830-b71e-5968-9f2a-af7f89378ad0    06/15/22  \n",
              "1  0e6e67fb-df1d-51a6-a23d-8a1ddfe79dc0    06/15/22  \n",
              "2  3f8a411a-2c26-5fea-a0ae-ee44dd75aec0    06/15/22  \n",
              "3  dc31f707-dea0-5a4d-bd7f-f7280fa253c9    06/15/22  \n",
              "4  265428fc-4ed3-5de8-b7f7-4e1e27231609    06/15/22  \n",
              "\n",
              "[5 rows x 28 columns]"
            ],
            "text/html": [
              "\n",
              "  <div id=\"df-6e4e0810-7657-4cd7-a8b8-0916bb107db2\" class=\"colab-df-container\">\n",
              "    <div>\n",
              "<style scoped>\n",
              "    .dataframe tbody tr th:only-of-type {\n",
              "        vertical-align: middle;\n",
              "    }\n",
              "\n",
              "    .dataframe tbody tr th {\n",
              "        vertical-align: top;\n",
              "    }\n",
              "\n",
              "    .dataframe thead th {\n",
              "        text-align: right;\n",
              "    }\n",
              "</style>\n",
              "<table border=\"1\" class=\"dataframe\">\n",
              "  <thead>\n",
              "    <tr style=\"text-align: right;\">\n",
              "      <th></th>\n",
              "      <th>title</th>\n",
              "      <th>url</th>\n",
              "      <th>pid</th>\n",
              "      <th>formatted_url</th>\n",
              "      <th>brand</th>\n",
              "      <th>stock</th>\n",
              "      <th>f_assured</th>\n",
              "      <th>price</th>\n",
              "      <th>currency</th>\n",
              "      <th>original_price</th>\n",
              "      <th>...</th>\n",
              "      <th>formatted_specifications</th>\n",
              "      <th>avg_rating</th>\n",
              "      <th>reviews_count</th>\n",
              "      <th>category</th>\n",
              "      <th>sub_category_1</th>\n",
              "      <th>sub_category_2</th>\n",
              "      <th>breadcrumbs</th>\n",
              "      <th>payment_options</th>\n",
              "      <th>uniq_id</th>\n",
              "      <th>scraped_at</th>\n",
              "    </tr>\n",
              "  </thead>\n",
              "  <tbody>\n",
              "    <tr>\n",
              "      <th>0</th>\n",
              "      <td>Bastex Back Cover for Moto G9  (Multicolor)</td>\n",
              "      <td>https://www.flipkart.com/bastex-back-cover-mot...</td>\n",
              "      <td>itmb772e270a8476</td>\n",
              "      <td>https://www.flipkart.com/product/p/itmb772e270...</td>\n",
              "      <td>NaN</td>\n",
              "      <td>NaN</td>\n",
              "      <td>False</td>\n",
              "      <td>219</td>\n",
              "      <td>INR</td>\n",
              "      <td>999</td>\n",
              "      <td>...</td>\n",
              "      <td>Sales Package: 1 Mobile Cover | Model Number: ...</td>\n",
              "      <td>NaN</td>\n",
              "      <td>NaN</td>\n",
              "      <td>NaN</td>\n",
              "      <td>NaN</td>\n",
              "      <td>NaN</td>\n",
              "      <td>NaN</td>\n",
              "      <td>NaN</td>\n",
              "      <td>3fff7830-b71e-5968-9f2a-af7f89378ad0</td>\n",
              "      <td>06/15/22</td>\n",
              "    </tr>\n",
              "    <tr>\n",
              "      <th>1</th>\n",
              "      <td>Devilart Back Cover for Lava X11  (Multicolor,...</td>\n",
              "      <td>https://www.flipkart.com/devilart-back-cover-l...</td>\n",
              "      <td>itmfbqyhwqvedcdn</td>\n",
              "      <td>https://www.flipkart.com/product/p/itmfbqyhwqv...</td>\n",
              "      <td>NaN</td>\n",
              "      <td>NaN</td>\n",
              "      <td>False</td>\n",
              "      <td>188</td>\n",
              "      <td>INR</td>\n",
              "      <td>659</td>\n",
              "      <td>...</td>\n",
              "      <td>Sales Package: 1 Designer Case | Model Number:...</td>\n",
              "      <td>NaN</td>\n",
              "      <td>NaN</td>\n",
              "      <td>NaN</td>\n",
              "      <td>NaN</td>\n",
              "      <td>NaN</td>\n",
              "      <td>NaN</td>\n",
              "      <td>NaN</td>\n",
              "      <td>0e6e67fb-df1d-51a6-a23d-8a1ddfe79dc0</td>\n",
              "      <td>06/15/22</td>\n",
              "    </tr>\n",
              "    <tr>\n",
              "      <th>2</th>\n",
              "      <td>SY Gifts Back Cover for Apple iPhone 7  (Multi...</td>\n",
              "      <td>https://www.flipkart.com/sy-gifts-back-cover-a...</td>\n",
              "      <td>itm99e6ac4c0b9cd</td>\n",
              "      <td>https://www.flipkart.com/product/p/itm99e6ac4c...</td>\n",
              "      <td>NaN</td>\n",
              "      <td>NaN</td>\n",
              "      <td>False</td>\n",
              "      <td>199</td>\n",
              "      <td>INR</td>\n",
              "      <td>599</td>\n",
              "      <td>...</td>\n",
              "      <td>Sales Package: 1 Mobile Back Cover | Model Num...</td>\n",
              "      <td>NaN</td>\n",
              "      <td>NaN</td>\n",
              "      <td>NaN</td>\n",
              "      <td>NaN</td>\n",
              "      <td>NaN</td>\n",
              "      <td>NaN</td>\n",
              "      <td>NaN</td>\n",
              "      <td>3f8a411a-2c26-5fea-a0ae-ee44dd75aec0</td>\n",
              "      <td>06/15/22</td>\n",
              "    </tr>\n",
              "    <tr>\n",
              "      <th>3</th>\n",
              "      <td>Exclusivebay Back Cover for Micromax Canvas 5 ...</td>\n",
              "      <td>https://www.flipkart.com/exclusivebay-back-cov...</td>\n",
              "      <td>itmafcf69ec9cf97</td>\n",
              "      <td>https://www.flipkart.com/product/p/itmafcf69ec...</td>\n",
              "      <td>NaN</td>\n",
              "      <td>Hurry, Only 5 left!</td>\n",
              "      <td>True</td>\n",
              "      <td>219</td>\n",
              "      <td>INR</td>\n",
              "      <td>999</td>\n",
              "      <td>...</td>\n",
              "      <td>NaN</td>\n",
              "      <td>NaN</td>\n",
              "      <td>NaN</td>\n",
              "      <td>NaN</td>\n",
              "      <td>NaN</td>\n",
              "      <td>NaN</td>\n",
              "      <td>NaN</td>\n",
              "      <td>NaN</td>\n",
              "      <td>dc31f707-dea0-5a4d-bd7f-f7280fa253c9</td>\n",
              "      <td>06/15/22</td>\n",
              "    </tr>\n",
              "    <tr>\n",
              "      <th>4</th>\n",
              "      <td>Coolboys Back Cover for Tecno KE-6 / KE6  (Pur...</td>\n",
              "      <td>https://www.flipkart.com/coolboys-back-cover-t...</td>\n",
              "      <td>itm414c308bcbb71</td>\n",
              "      <td>https://www.flipkart.com/product/p/itm414c308b...</td>\n",
              "      <td>NaN</td>\n",
              "      <td>NaN</td>\n",
              "      <td>False</td>\n",
              "      <td>197</td>\n",
              "      <td>INR</td>\n",
              "      <td>659</td>\n",
              "      <td>...</td>\n",
              "      <td>Sales Package: 1 Designer soft Silicon Cover |...</td>\n",
              "      <td>NaN</td>\n",
              "      <td>NaN</td>\n",
              "      <td>NaN</td>\n",
              "      <td>NaN</td>\n",
              "      <td>NaN</td>\n",
              "      <td>NaN</td>\n",
              "      <td>NaN</td>\n",
              "      <td>265428fc-4ed3-5de8-b7f7-4e1e27231609</td>\n",
              "      <td>06/15/22</td>\n",
              "    </tr>\n",
              "  </tbody>\n",
              "</table>\n",
              "<p>5 rows × 28 columns</p>\n",
              "</div>\n",
              "    <div class=\"colab-df-buttons\">\n",
              "\n",
              "  <div class=\"colab-df-container\">\n",
              "    <button class=\"colab-df-convert\" onclick=\"convertToInteractive('df-6e4e0810-7657-4cd7-a8b8-0916bb107db2')\"\n",
              "            title=\"Convert this dataframe to an interactive table.\"\n",
              "            style=\"display:none;\">\n",
              "\n",
              "  <svg xmlns=\"http://www.w3.org/2000/svg\" height=\"24px\" viewBox=\"0 -960 960 960\">\n",
              "    <path d=\"M120-120v-720h720v720H120Zm60-500h600v-160H180v160Zm220 220h160v-160H400v160Zm0 220h160v-160H400v160ZM180-400h160v-160H180v160Zm440 0h160v-160H620v160ZM180-180h160v-160H180v160Zm440 0h160v-160H620v160Z\"/>\n",
              "  </svg>\n",
              "    </button>\n",
              "\n",
              "  <style>\n",
              "    .colab-df-container {\n",
              "      display:flex;\n",
              "      gap: 12px;\n",
              "    }\n",
              "\n",
              "    .colab-df-convert {\n",
              "      background-color: #E8F0FE;\n",
              "      border: none;\n",
              "      border-radius: 50%;\n",
              "      cursor: pointer;\n",
              "      display: none;\n",
              "      fill: #1967D2;\n",
              "      height: 32px;\n",
              "      padding: 0 0 0 0;\n",
              "      width: 32px;\n",
              "    }\n",
              "\n",
              "    .colab-df-convert:hover {\n",
              "      background-color: #E2EBFA;\n",
              "      box-shadow: 0px 1px 2px rgba(60, 64, 67, 0.3), 0px 1px 3px 1px rgba(60, 64, 67, 0.15);\n",
              "      fill: #174EA6;\n",
              "    }\n",
              "\n",
              "    .colab-df-buttons div {\n",
              "      margin-bottom: 4px;\n",
              "    }\n",
              "\n",
              "    [theme=dark] .colab-df-convert {\n",
              "      background-color: #3B4455;\n",
              "      fill: #D2E3FC;\n",
              "    }\n",
              "\n",
              "    [theme=dark] .colab-df-convert:hover {\n",
              "      background-color: #434B5C;\n",
              "      box-shadow: 0px 1px 3px 1px rgba(0, 0, 0, 0.15);\n",
              "      filter: drop-shadow(0px 1px 2px rgba(0, 0, 0, 0.3));\n",
              "      fill: #FFFFFF;\n",
              "    }\n",
              "  </style>\n",
              "\n",
              "    <script>\n",
              "      const buttonEl =\n",
              "        document.querySelector('#df-6e4e0810-7657-4cd7-a8b8-0916bb107db2 button.colab-df-convert');\n",
              "      buttonEl.style.display =\n",
              "        google.colab.kernel.accessAllowed ? 'block' : 'none';\n",
              "\n",
              "      async function convertToInteractive(key) {\n",
              "        const element = document.querySelector('#df-6e4e0810-7657-4cd7-a8b8-0916bb107db2');\n",
              "        const dataTable =\n",
              "          await google.colab.kernel.invokeFunction('convertToInteractive',\n",
              "                                                    [key], {});\n",
              "        if (!dataTable) return;\n",
              "\n",
              "        const docLinkHtml = 'Like what you see? Visit the ' +\n",
              "          '<a target=\"_blank\" href=https://colab.research.google.com/notebooks/data_table.ipynb>data table notebook</a>'\n",
              "          + ' to learn more about interactive tables.';\n",
              "        element.innerHTML = '';\n",
              "        dataTable['output_type'] = 'display_data';\n",
              "        await google.colab.output.renderOutput(dataTable, element);\n",
              "        const docLink = document.createElement('div');\n",
              "        docLink.innerHTML = docLinkHtml;\n",
              "        element.appendChild(docLink);\n",
              "      }\n",
              "    </script>\n",
              "  </div>\n",
              "\n",
              "\n",
              "<div id=\"df-a337a754-ee9c-4763-809b-6689b1f2028f\">\n",
              "  <button class=\"colab-df-quickchart\" onclick=\"quickchart('df-a337a754-ee9c-4763-809b-6689b1f2028f')\"\n",
              "            title=\"Suggest charts\"\n",
              "            style=\"display:none;\">\n",
              "\n",
              "<svg xmlns=\"http://www.w3.org/2000/svg\" height=\"24px\"viewBox=\"0 0 24 24\"\n",
              "     width=\"24px\">\n",
              "    <g>\n",
              "        <path d=\"M19 3H5c-1.1 0-2 .9-2 2v14c0 1.1.9 2 2 2h14c1.1 0 2-.9 2-2V5c0-1.1-.9-2-2-2zM9 17H7v-7h2v7zm4 0h-2V7h2v10zm4 0h-2v-4h2v4z\"/>\n",
              "    </g>\n",
              "</svg>\n",
              "  </button>\n",
              "\n",
              "<style>\n",
              "  .colab-df-quickchart {\n",
              "      --bg-color: #E8F0FE;\n",
              "      --fill-color: #1967D2;\n",
              "      --hover-bg-color: #E2EBFA;\n",
              "      --hover-fill-color: #174EA6;\n",
              "      --disabled-fill-color: #AAA;\n",
              "      --disabled-bg-color: #DDD;\n",
              "  }\n",
              "\n",
              "  [theme=dark] .colab-df-quickchart {\n",
              "      --bg-color: #3B4455;\n",
              "      --fill-color: #D2E3FC;\n",
              "      --hover-bg-color: #434B5C;\n",
              "      --hover-fill-color: #FFFFFF;\n",
              "      --disabled-bg-color: #3B4455;\n",
              "      --disabled-fill-color: #666;\n",
              "  }\n",
              "\n",
              "  .colab-df-quickchart {\n",
              "    background-color: var(--bg-color);\n",
              "    border: none;\n",
              "    border-radius: 50%;\n",
              "    cursor: pointer;\n",
              "    display: none;\n",
              "    fill: var(--fill-color);\n",
              "    height: 32px;\n",
              "    padding: 0;\n",
              "    width: 32px;\n",
              "  }\n",
              "\n",
              "  .colab-df-quickchart:hover {\n",
              "    background-color: var(--hover-bg-color);\n",
              "    box-shadow: 0 1px 2px rgba(60, 64, 67, 0.3), 0 1px 3px 1px rgba(60, 64, 67, 0.15);\n",
              "    fill: var(--button-hover-fill-color);\n",
              "  }\n",
              "\n",
              "  .colab-df-quickchart-complete:disabled,\n",
              "  .colab-df-quickchart-complete:disabled:hover {\n",
              "    background-color: var(--disabled-bg-color);\n",
              "    fill: var(--disabled-fill-color);\n",
              "    box-shadow: none;\n",
              "  }\n",
              "\n",
              "  .colab-df-spinner {\n",
              "    border: 2px solid var(--fill-color);\n",
              "    border-color: transparent;\n",
              "    border-bottom-color: var(--fill-color);\n",
              "    animation:\n",
              "      spin 1s steps(1) infinite;\n",
              "  }\n",
              "\n",
              "  @keyframes spin {\n",
              "    0% {\n",
              "      border-color: transparent;\n",
              "      border-bottom-color: var(--fill-color);\n",
              "      border-left-color: var(--fill-color);\n",
              "    }\n",
              "    20% {\n",
              "      border-color: transparent;\n",
              "      border-left-color: var(--fill-color);\n",
              "      border-top-color: var(--fill-color);\n",
              "    }\n",
              "    30% {\n",
              "      border-color: transparent;\n",
              "      border-left-color: var(--fill-color);\n",
              "      border-top-color: var(--fill-color);\n",
              "      border-right-color: var(--fill-color);\n",
              "    }\n",
              "    40% {\n",
              "      border-color: transparent;\n",
              "      border-right-color: var(--fill-color);\n",
              "      border-top-color: var(--fill-color);\n",
              "    }\n",
              "    60% {\n",
              "      border-color: transparent;\n",
              "      border-right-color: var(--fill-color);\n",
              "    }\n",
              "    80% {\n",
              "      border-color: transparent;\n",
              "      border-right-color: var(--fill-color);\n",
              "      border-bottom-color: var(--fill-color);\n",
              "    }\n",
              "    90% {\n",
              "      border-color: transparent;\n",
              "      border-bottom-color: var(--fill-color);\n",
              "    }\n",
              "  }\n",
              "</style>\n",
              "\n",
              "  <script>\n",
              "    async function quickchart(key) {\n",
              "      const quickchartButtonEl =\n",
              "        document.querySelector('#' + key + ' button');\n",
              "      quickchartButtonEl.disabled = true;  // To prevent multiple clicks.\n",
              "      quickchartButtonEl.classList.add('colab-df-spinner');\n",
              "      try {\n",
              "        const charts = await google.colab.kernel.invokeFunction(\n",
              "            'suggestCharts', [key], {});\n",
              "      } catch (error) {\n",
              "        console.error('Error during call to suggestCharts:', error);\n",
              "      }\n",
              "      quickchartButtonEl.classList.remove('colab-df-spinner');\n",
              "      quickchartButtonEl.classList.add('colab-df-quickchart-complete');\n",
              "    }\n",
              "    (() => {\n",
              "      let quickchartButtonEl =\n",
              "        document.querySelector('#df-a337a754-ee9c-4763-809b-6689b1f2028f button');\n",
              "      quickchartButtonEl.style.display =\n",
              "        google.colab.kernel.accessAllowed ? 'block' : 'none';\n",
              "    })();\n",
              "  </script>\n",
              "</div>\n",
              "\n",
              "    </div>\n",
              "  </div>\n"
            ],
            "application/vnd.google.colaboratory.intrinsic+json": {
              "type": "dataframe",
              "variable_name": "df"
            }
          },
          "metadata": {},
          "execution_count": 46
        }
      ],
      "source": [
        "df.head()"
      ]
    },
    {
      "cell_type": "code",
      "source": [
        "df.columns"
      ],
      "metadata": {
        "colab": {
          "base_uri": "https://localhost:8080/"
        },
        "id": "lla7B6P4ovGs",
        "outputId": "962bf884-40b2-4f04-cc6c-00efdb6645e4"
      },
      "execution_count": 47,
      "outputs": [
        {
          "output_type": "execute_result",
          "data": {
            "text/plain": [
              "Index(['title', 'url', 'pid', 'formatted_url', 'brand', 'stock', 'f_assured',\n",
              "       'price', 'currency', 'original_price', 'discount', 'images', 'seller',\n",
              "       'seller_rating', 'return_policy', 'description', 'highlights',\n",
              "       'specifications', 'formatted_specifications', 'avg_rating',\n",
              "       'reviews_count', 'category', 'sub_category_1', 'sub_category_2',\n",
              "       'breadcrumbs', 'payment_options', 'uniq_id', 'scraped_at'],\n",
              "      dtype='object')"
            ]
          },
          "metadata": {},
          "execution_count": 47
        }
      ]
    },
    {
      "cell_type": "code",
      "source": [
        "df.fillna(\"0\",inplace=True)\n",
        "df.shape"
      ],
      "metadata": {
        "colab": {
          "base_uri": "https://localhost:8080/"
        },
        "id": "0aWdUFrBroFw",
        "outputId": "0a75c4c1-25a7-4da8-92fc-a3f14edd3a3f"
      },
      "execution_count": 48,
      "outputs": [
        {
          "output_type": "execute_result",
          "data": {
            "text/plain": [
              "(10, 28)"
            ]
          },
          "metadata": {},
          "execution_count": 48
        }
      ]
    },
    {
      "cell_type": "code",
      "source": [
        "df.drop([ 'images', 'seller',\n",
        "       'seller_rating', 'return_policy', 'description', 'highlights',\n",
        "       'specifications', 'formatted_specifications', 'avg_rating',\n",
        "       'reviews_count', 'category', 'sub_category_1', 'sub_category_2',\n",
        "       'breadcrumbs', 'payment_options', 'uniq_id', 'scraped_at'], axis=1, inplace=True)"
      ],
      "metadata": {
        "id": "MPOYaTBdo0VC"
      },
      "execution_count": 49,
      "outputs": []
    },
    {
      "cell_type": "code",
      "source": [
        "df[:1]"
      ],
      "metadata": {
        "colab": {
          "base_uri": "https://localhost:8080/",
          "height": 135
        },
        "id": "KtwU1N5kuyIq",
        "outputId": "62c53db5-51e9-4bc6-9307-4a33bd5ad24d"
      },
      "execution_count": 50,
      "outputs": [
        {
          "output_type": "execute_result",
          "data": {
            "text/plain": [
              "                                         title  \\\n",
              "0  Bastex Back Cover for Moto G9  (Multicolor)   \n",
              "\n",
              "                                                 url               pid  \\\n",
              "0  https://www.flipkart.com/bastex-back-cover-mot...  itmb772e270a8476   \n",
              "\n",
              "                                       formatted_url brand stock  f_assured  \\\n",
              "0  https://www.flipkart.com/product/p/itmb772e270...     0     0      False   \n",
              "\n",
              "  price currency original_price discount  \n",
              "0   219      INR            999  78% off  "
            ],
            "text/html": [
              "\n",
              "  <div id=\"df-277016be-e03c-4a2a-9bbd-9eaac79e0085\" class=\"colab-df-container\">\n",
              "    <div>\n",
              "<style scoped>\n",
              "    .dataframe tbody tr th:only-of-type {\n",
              "        vertical-align: middle;\n",
              "    }\n",
              "\n",
              "    .dataframe tbody tr th {\n",
              "        vertical-align: top;\n",
              "    }\n",
              "\n",
              "    .dataframe thead th {\n",
              "        text-align: right;\n",
              "    }\n",
              "</style>\n",
              "<table border=\"1\" class=\"dataframe\">\n",
              "  <thead>\n",
              "    <tr style=\"text-align: right;\">\n",
              "      <th></th>\n",
              "      <th>title</th>\n",
              "      <th>url</th>\n",
              "      <th>pid</th>\n",
              "      <th>formatted_url</th>\n",
              "      <th>brand</th>\n",
              "      <th>stock</th>\n",
              "      <th>f_assured</th>\n",
              "      <th>price</th>\n",
              "      <th>currency</th>\n",
              "      <th>original_price</th>\n",
              "      <th>discount</th>\n",
              "    </tr>\n",
              "  </thead>\n",
              "  <tbody>\n",
              "    <tr>\n",
              "      <th>0</th>\n",
              "      <td>Bastex Back Cover for Moto G9  (Multicolor)</td>\n",
              "      <td>https://www.flipkart.com/bastex-back-cover-mot...</td>\n",
              "      <td>itmb772e270a8476</td>\n",
              "      <td>https://www.flipkart.com/product/p/itmb772e270...</td>\n",
              "      <td>0</td>\n",
              "      <td>0</td>\n",
              "      <td>False</td>\n",
              "      <td>219</td>\n",
              "      <td>INR</td>\n",
              "      <td>999</td>\n",
              "      <td>78% off</td>\n",
              "    </tr>\n",
              "  </tbody>\n",
              "</table>\n",
              "</div>\n",
              "    <div class=\"colab-df-buttons\">\n",
              "\n",
              "  <div class=\"colab-df-container\">\n",
              "    <button class=\"colab-df-convert\" onclick=\"convertToInteractive('df-277016be-e03c-4a2a-9bbd-9eaac79e0085')\"\n",
              "            title=\"Convert this dataframe to an interactive table.\"\n",
              "            style=\"display:none;\">\n",
              "\n",
              "  <svg xmlns=\"http://www.w3.org/2000/svg\" height=\"24px\" viewBox=\"0 -960 960 960\">\n",
              "    <path d=\"M120-120v-720h720v720H120Zm60-500h600v-160H180v160Zm220 220h160v-160H400v160Zm0 220h160v-160H400v160ZM180-400h160v-160H180v160Zm440 0h160v-160H620v160ZM180-180h160v-160H180v160Zm440 0h160v-160H620v160Z\"/>\n",
              "  </svg>\n",
              "    </button>\n",
              "\n",
              "  <style>\n",
              "    .colab-df-container {\n",
              "      display:flex;\n",
              "      gap: 12px;\n",
              "    }\n",
              "\n",
              "    .colab-df-convert {\n",
              "      background-color: #E8F0FE;\n",
              "      border: none;\n",
              "      border-radius: 50%;\n",
              "      cursor: pointer;\n",
              "      display: none;\n",
              "      fill: #1967D2;\n",
              "      height: 32px;\n",
              "      padding: 0 0 0 0;\n",
              "      width: 32px;\n",
              "    }\n",
              "\n",
              "    .colab-df-convert:hover {\n",
              "      background-color: #E2EBFA;\n",
              "      box-shadow: 0px 1px 2px rgba(60, 64, 67, 0.3), 0px 1px 3px 1px rgba(60, 64, 67, 0.15);\n",
              "      fill: #174EA6;\n",
              "    }\n",
              "\n",
              "    .colab-df-buttons div {\n",
              "      margin-bottom: 4px;\n",
              "    }\n",
              "\n",
              "    [theme=dark] .colab-df-convert {\n",
              "      background-color: #3B4455;\n",
              "      fill: #D2E3FC;\n",
              "    }\n",
              "\n",
              "    [theme=dark] .colab-df-convert:hover {\n",
              "      background-color: #434B5C;\n",
              "      box-shadow: 0px 1px 3px 1px rgba(0, 0, 0, 0.15);\n",
              "      filter: drop-shadow(0px 1px 2px rgba(0, 0, 0, 0.3));\n",
              "      fill: #FFFFFF;\n",
              "    }\n",
              "  </style>\n",
              "\n",
              "    <script>\n",
              "      const buttonEl =\n",
              "        document.querySelector('#df-277016be-e03c-4a2a-9bbd-9eaac79e0085 button.colab-df-convert');\n",
              "      buttonEl.style.display =\n",
              "        google.colab.kernel.accessAllowed ? 'block' : 'none';\n",
              "\n",
              "      async function convertToInteractive(key) {\n",
              "        const element = document.querySelector('#df-277016be-e03c-4a2a-9bbd-9eaac79e0085');\n",
              "        const dataTable =\n",
              "          await google.colab.kernel.invokeFunction('convertToInteractive',\n",
              "                                                    [key], {});\n",
              "        if (!dataTable) return;\n",
              "\n",
              "        const docLinkHtml = 'Like what you see? Visit the ' +\n",
              "          '<a target=\"_blank\" href=https://colab.research.google.com/notebooks/data_table.ipynb>data table notebook</a>'\n",
              "          + ' to learn more about interactive tables.';\n",
              "        element.innerHTML = '';\n",
              "        dataTable['output_type'] = 'display_data';\n",
              "        await google.colab.output.renderOutput(dataTable, element);\n",
              "        const docLink = document.createElement('div');\n",
              "        docLink.innerHTML = docLinkHtml;\n",
              "        element.appendChild(docLink);\n",
              "      }\n",
              "    </script>\n",
              "  </div>\n",
              "\n",
              "\n",
              "    </div>\n",
              "  </div>\n"
            ],
            "application/vnd.google.colaboratory.intrinsic+json": {
              "type": "dataframe",
              "summary": "{\n  \"name\": \"df[:1]\",\n  \"rows\": 1,\n  \"fields\": [\n    {\n      \"column\": \"title\",\n      \"properties\": {\n        \"dtype\": \"string\",\n        \"num_unique_values\": 1,\n        \"samples\": [\n          \"Bastex Back Cover for Moto G9\\u00a0\\u00a0(Multicolor)\"\n        ],\n        \"semantic_type\": \"\",\n        \"description\": \"\"\n      }\n    },\n    {\n      \"column\": \"url\",\n      \"properties\": {\n        \"dtype\": \"string\",\n        \"num_unique_values\": 1,\n        \"samples\": [\n          \"https://www.flipkart.com/bastex-back-cover-moto-g9/p/itmb772e270a8476\"\n        ],\n        \"semantic_type\": \"\",\n        \"description\": \"\"\n      }\n    },\n    {\n      \"column\": \"pid\",\n      \"properties\": {\n        \"dtype\": \"string\",\n        \"num_unique_values\": 1,\n        \"samples\": [\n          \"itmb772e270a8476\"\n        ],\n        \"semantic_type\": \"\",\n        \"description\": \"\"\n      }\n    },\n    {\n      \"column\": \"formatted_url\",\n      \"properties\": {\n        \"dtype\": \"string\",\n        \"num_unique_values\": 1,\n        \"samples\": [\n          \"https://www.flipkart.com/product/p/itmb772e270a8476\"\n        ],\n        \"semantic_type\": \"\",\n        \"description\": \"\"\n      }\n    },\n    {\n      \"column\": \"brand\",\n      \"properties\": {\n        \"dtype\": \"string\",\n        \"num_unique_values\": 1,\n        \"samples\": [\n          \"0\"\n        ],\n        \"semantic_type\": \"\",\n        \"description\": \"\"\n      }\n    },\n    {\n      \"column\": \"stock\",\n      \"properties\": {\n        \"dtype\": \"string\",\n        \"num_unique_values\": 1,\n        \"samples\": [\n          \"0\"\n        ],\n        \"semantic_type\": \"\",\n        \"description\": \"\"\n      }\n    },\n    {\n      \"column\": \"f_assured\",\n      \"properties\": {\n        \"dtype\": \"boolean\",\n        \"num_unique_values\": 1,\n        \"samples\": [\n          false\n        ],\n        \"semantic_type\": \"\",\n        \"description\": \"\"\n      }\n    },\n    {\n      \"column\": \"price\",\n      \"properties\": {\n        \"dtype\": \"string\",\n        \"num_unique_values\": 1,\n        \"samples\": [\n          \"219\"\n        ],\n        \"semantic_type\": \"\",\n        \"description\": \"\"\n      }\n    },\n    {\n      \"column\": \"currency\",\n      \"properties\": {\n        \"dtype\": \"string\",\n        \"num_unique_values\": 1,\n        \"samples\": [\n          \"INR\"\n        ],\n        \"semantic_type\": \"\",\n        \"description\": \"\"\n      }\n    },\n    {\n      \"column\": \"original_price\",\n      \"properties\": {\n        \"dtype\": \"string\",\n        \"num_unique_values\": 1,\n        \"samples\": [\n          \"999\"\n        ],\n        \"semantic_type\": \"\",\n        \"description\": \"\"\n      }\n    },\n    {\n      \"column\": \"discount\",\n      \"properties\": {\n        \"dtype\": \"string\",\n        \"num_unique_values\": 1,\n        \"samples\": [\n          \"78% off\"\n        ],\n        \"semantic_type\": \"\",\n        \"description\": \"\"\n      }\n    }\n  ]\n}"
            }
          },
          "metadata": {},
          "execution_count": 50
        }
      ]
    },
    {
      "cell_type": "code",
      "execution_count": 51,
      "metadata": {
        "colab": {
          "base_uri": "https://localhost:8080/",
          "height": 87
        },
        "id": "2k9Wgg3YgU7a",
        "outputId": "0b4fcab4-ddf6-44f3-ffd1-b4e119574169"
      },
      "outputs": [
        {
          "output_type": "execute_result",
          "data": {
            "text/plain": [
              "'title bastex back cover for moto g9\\xa0\\xa0(multicolor). url https://www.flipkart.com/bastex-back-cover-moto-g9/p/itmb772e270a8476. pid itmb772e270a8476. formatted_url https://www.flipkart.com/product/p/itmb772e270a8476. brand 0. stock 0. f_assured false. price 219. currency inr. original_price 999. discount 78% off'"
            ],
            "application/vnd.google.colaboratory.intrinsic+json": {
              "type": "string"
            }
          },
          "metadata": {},
          "execution_count": 51
        }
      ],
      "source": [
        "def convert_to_sentences(row):\n",
        "    sep = \" __ \"\n",
        "    invalids = {\"-\", \"/\", \"NA\", \"N\\\\A\"}\n",
        "\n",
        "    sents = []\n",
        "    for k, v in row.items():\n",
        "\n",
        "        if type(v) == list:\n",
        "            if len(v) == 0: continue\n",
        "            sent = k + \" \" + \" \".join(v)\n",
        "\n",
        "        elif type(v) == dict:\n",
        "            if len(v) == 0: continue\n",
        "            # sent = sep.join([f\"{k2} {v2}\" for k2, v2 in v.items() if v2 not in invalids])\n",
        "            for k2, v2 in v.items():\n",
        "                if v2 not in invalids:\n",
        "                    sents.append(f\"{k2} {v2}\")\n",
        "            continue\n",
        "\n",
        "        else:\n",
        "            if pd.isna(v): continue\n",
        "            sent = f\"{k} {v}\"\n",
        "\n",
        "        sent = sent.lower()\n",
        "        sent = [i for i in sent.split(\". \") if len(i) > 0]\n",
        "        sents.extend(sent)\n",
        "\n",
        "    sents = \". \".join(sents)\n",
        "    sents = sents.lower()\n",
        "\n",
        "    return sents\n",
        "\n",
        "convert_to_sentences(df.iloc[0])"
      ]
    },
    {
      "cell_type": "code",
      "execution_count": 52,
      "metadata": {
        "id": "0Om59zzXgxaF"
      },
      "outputs": [],
      "source": [
        "df['sentences'] = df.apply(convert_to_sentences, axis=1)"
      ]
    },
    {
      "cell_type": "code",
      "execution_count": 53,
      "metadata": {
        "colab": {
          "base_uri": "https://localhost:8080/",
          "height": 1000
        },
        "collapsed": true,
        "id": "53NeZtxGhCiM",
        "outputId": "61e4ff72-2f33-4238-d49f-ef622ca966d0"
      },
      "outputs": [
        {
          "output_type": "stream",
          "name": "stdout",
          "text": [
            "Requirement already satisfied: qdrant-client[fastembed] in /usr/local/lib/python3.10/dist-packages (1.9.2)\n",
            "Requirement already satisfied: grpcio>=1.41.0 in /usr/local/lib/python3.10/dist-packages (from qdrant-client[fastembed]) (1.64.1)\n",
            "Requirement already satisfied: grpcio-tools>=1.41.0 in /usr/local/lib/python3.10/dist-packages (from qdrant-client[fastembed]) (1.64.1)\n",
            "Requirement already satisfied: httpx[http2]>=0.20.0 in /usr/local/lib/python3.10/dist-packages (from qdrant-client[fastembed]) (0.27.0)\n",
            "Requirement already satisfied: numpy>=1.21 in /usr/local/lib/python3.10/dist-packages (from qdrant-client[fastembed]) (1.25.2)\n",
            "Requirement already satisfied: portalocker<3.0.0,>=2.7.0 in /usr/local/lib/python3.10/dist-packages (from qdrant-client[fastembed]) (2.8.2)\n",
            "Requirement already satisfied: pydantic>=1.10.8 in /usr/local/lib/python3.10/dist-packages (from qdrant-client[fastembed]) (2.7.4)\n",
            "Requirement already satisfied: urllib3<3,>=1.26.14 in /usr/local/lib/python3.10/dist-packages (from qdrant-client[fastembed]) (2.0.7)\n",
            "Requirement already satisfied: fastembed==0.2.7 in /usr/local/lib/python3.10/dist-packages (from qdrant-client[fastembed]) (0.2.7)\n",
            "Collecting huggingface-hub<0.21,>=0.20 (from fastembed==0.2.7->qdrant-client[fastembed])\n",
            "  Using cached huggingface_hub-0.20.3-py3-none-any.whl (330 kB)\n",
            "Requirement already satisfied: loguru<0.8.0,>=0.7.2 in /usr/local/lib/python3.10/dist-packages (from fastembed==0.2.7->qdrant-client[fastembed]) (0.7.2)\n",
            "Requirement already satisfied: onnx<2.0.0,>=1.15.0 in /usr/local/lib/python3.10/dist-packages (from fastembed==0.2.7->qdrant-client[fastembed]) (1.16.1)\n",
            "Requirement already satisfied: onnxruntime<2.0.0,>=1.17.0 in /usr/local/lib/python3.10/dist-packages (from fastembed==0.2.7->qdrant-client[fastembed]) (1.18.0)\n",
            "Requirement already satisfied: requests<3.0,>=2.31 in /usr/local/lib/python3.10/dist-packages (from fastembed==0.2.7->qdrant-client[fastembed]) (2.31.0)\n",
            "Collecting tokenizers<0.16,>=0.15 (from fastembed==0.2.7->qdrant-client[fastembed])\n",
            "  Using cached tokenizers-0.15.2-cp310-cp310-manylinux_2_17_x86_64.manylinux2014_x86_64.whl (3.6 MB)\n",
            "Requirement already satisfied: tqdm<5.0,>=4.66 in /usr/local/lib/python3.10/dist-packages (from fastembed==0.2.7->qdrant-client[fastembed]) (4.66.4)\n",
            "Requirement already satisfied: protobuf<6.0dev,>=5.26.1 in /usr/local/lib/python3.10/dist-packages (from grpcio-tools>=1.41.0->qdrant-client[fastembed]) (5.27.1)\n",
            "Requirement already satisfied: setuptools in /usr/local/lib/python3.10/dist-packages (from grpcio-tools>=1.41.0->qdrant-client[fastembed]) (67.7.2)\n",
            "Requirement already satisfied: anyio in /usr/local/lib/python3.10/dist-packages (from httpx[http2]>=0.20.0->qdrant-client[fastembed]) (3.7.1)\n",
            "Requirement already satisfied: certifi in /usr/local/lib/python3.10/dist-packages (from httpx[http2]>=0.20.0->qdrant-client[fastembed]) (2024.6.2)\n",
            "Requirement already satisfied: httpcore==1.* in /usr/local/lib/python3.10/dist-packages (from httpx[http2]>=0.20.0->qdrant-client[fastembed]) (1.0.5)\n",
            "Requirement already satisfied: idna in /usr/local/lib/python3.10/dist-packages (from httpx[http2]>=0.20.0->qdrant-client[fastembed]) (3.7)\n",
            "Requirement already satisfied: sniffio in /usr/local/lib/python3.10/dist-packages (from httpx[http2]>=0.20.0->qdrant-client[fastembed]) (1.3.1)\n",
            "Requirement already satisfied: h2<5,>=3 in /usr/local/lib/python3.10/dist-packages (from httpx[http2]>=0.20.0->qdrant-client[fastembed]) (4.1.0)\n",
            "Requirement already satisfied: h11<0.15,>=0.13 in /usr/local/lib/python3.10/dist-packages (from httpcore==1.*->httpx[http2]>=0.20.0->qdrant-client[fastembed]) (0.14.0)\n",
            "Requirement already satisfied: annotated-types>=0.4.0 in /usr/local/lib/python3.10/dist-packages (from pydantic>=1.10.8->qdrant-client[fastembed]) (0.7.0)\n",
            "Requirement already satisfied: pydantic-core==2.18.4 in /usr/local/lib/python3.10/dist-packages (from pydantic>=1.10.8->qdrant-client[fastembed]) (2.18.4)\n",
            "Requirement already satisfied: typing-extensions>=4.6.1 in /usr/local/lib/python3.10/dist-packages (from pydantic>=1.10.8->qdrant-client[fastembed]) (4.12.2)\n",
            "Requirement already satisfied: hyperframe<7,>=6.0 in /usr/local/lib/python3.10/dist-packages (from h2<5,>=3->httpx[http2]>=0.20.0->qdrant-client[fastembed]) (6.0.1)\n",
            "Requirement already satisfied: hpack<5,>=4.0 in /usr/local/lib/python3.10/dist-packages (from h2<5,>=3->httpx[http2]>=0.20.0->qdrant-client[fastembed]) (4.0.0)\n",
            "Requirement already satisfied: filelock in /usr/local/lib/python3.10/dist-packages (from huggingface-hub<0.21,>=0.20->fastembed==0.2.7->qdrant-client[fastembed]) (3.15.1)\n",
            "Requirement already satisfied: fsspec>=2023.5.0 in /usr/local/lib/python3.10/dist-packages (from huggingface-hub<0.21,>=0.20->fastembed==0.2.7->qdrant-client[fastembed]) (2023.6.0)\n",
            "Requirement already satisfied: pyyaml>=5.1 in /usr/local/lib/python3.10/dist-packages (from huggingface-hub<0.21,>=0.20->fastembed==0.2.7->qdrant-client[fastembed]) (6.0.1)\n",
            "Requirement already satisfied: packaging>=20.9 in /usr/local/lib/python3.10/dist-packages (from huggingface-hub<0.21,>=0.20->fastembed==0.2.7->qdrant-client[fastembed]) (24.1)\n",
            "Requirement already satisfied: coloredlogs in /usr/local/lib/python3.10/dist-packages (from onnxruntime<2.0.0,>=1.17.0->fastembed==0.2.7->qdrant-client[fastembed]) (15.0.1)\n",
            "Requirement already satisfied: flatbuffers in /usr/local/lib/python3.10/dist-packages (from onnxruntime<2.0.0,>=1.17.0->fastembed==0.2.7->qdrant-client[fastembed]) (24.3.25)\n",
            "Requirement already satisfied: sympy in /usr/local/lib/python3.10/dist-packages (from onnxruntime<2.0.0,>=1.17.0->fastembed==0.2.7->qdrant-client[fastembed]) (1.12.1)\n",
            "Requirement already satisfied: charset-normalizer<4,>=2 in /usr/local/lib/python3.10/dist-packages (from requests<3.0,>=2.31->fastembed==0.2.7->qdrant-client[fastembed]) (3.3.2)\n",
            "Requirement already satisfied: exceptiongroup in /usr/local/lib/python3.10/dist-packages (from anyio->httpx[http2]>=0.20.0->qdrant-client[fastembed]) (1.2.1)\n",
            "Requirement already satisfied: humanfriendly>=9.1 in /usr/local/lib/python3.10/dist-packages (from coloredlogs->onnxruntime<2.0.0,>=1.17.0->fastembed==0.2.7->qdrant-client[fastembed]) (10.0)\n",
            "Requirement already satisfied: mpmath<1.4.0,>=1.1.0 in /usr/local/lib/python3.10/dist-packages (from sympy->onnxruntime<2.0.0,>=1.17.0->fastembed==0.2.7->qdrant-client[fastembed]) (1.3.0)\n",
            "Installing collected packages: huggingface-hub, tokenizers\n",
            "  Attempting uninstall: huggingface-hub\n",
            "    Found existing installation: huggingface-hub 0.23.4\n",
            "    Uninstalling huggingface-hub-0.23.4:\n",
            "      Successfully uninstalled huggingface-hub-0.23.4\n",
            "  Attempting uninstall: tokenizers\n",
            "    Found existing installation: tokenizers 0.19.1\n",
            "    Uninstalling tokenizers-0.19.1:\n",
            "      Successfully uninstalled tokenizers-0.19.1\n",
            "\u001b[31mERROR: pip's dependency resolver does not currently take into account all the packages that are installed. This behaviour is the source of the following dependency conflicts.\n",
            "transformers 4.40.0 requires tokenizers<0.20,>=0.19, but you have tokenizers 0.15.2 which is incompatible.\u001b[0m\u001b[31m\n",
            "\u001b[0mSuccessfully installed huggingface-hub-0.20.3 tokenizers-0.15.2\n"
          ]
        },
        {
          "output_type": "display_data",
          "data": {
            "application/vnd.colab-display-data+json": {
              "pip_warning": {
                "packages": [
                  "huggingface_hub"
                ]
              },
              "id": "be3f5463dff8437db9b3c2fd1ae5d054"
            }
          },
          "metadata": {}
        }
      ],
      "source": [
        "!pip install qdrant-client[fastembed]"
      ]
    },
    {
      "cell_type": "code",
      "execution_count": 54,
      "metadata": {
        "colab": {
          "base_uri": "https://localhost:8080/",
          "height": 1000
        },
        "collapsed": true,
        "id": "bkkxAv59CgpG",
        "outputId": "f3e99410-49ca-4f1c-c05d-178002e2ff8b"
      },
      "outputs": [
        {
          "output_type": "stream",
          "name": "stdout",
          "text": [
            "\u001b[2K     \u001b[90m━━━━━━━━━━━━━━━━━━━━━━━━━━━━━━━━━━━━━━━━\u001b[0m \u001b[32m9.1/9.1 MB\u001b[0m \u001b[31m23.1 MB/s\u001b[0m eta \u001b[36m0:00:00\u001b[0m\n",
            "\u001b[?25h\u001b[31mERROR: pip's dependency resolver does not currently take into account all the packages that are installed. This behaviour is the source of the following dependency conflicts.\n",
            "fastembed 0.2.7 requires huggingface-hub<0.21,>=0.20, but you have huggingface-hub 0.23.4 which is incompatible.\n",
            "fastembed 0.2.7 requires tokenizers<0.16,>=0.15, but you have tokenizers 0.19.1 which is incompatible.\u001b[0m\u001b[31m\n",
            "\u001b[0mRequirement already satisfied: sentence_transformers in /usr/local/lib/python3.10/dist-packages (3.0.1)\n",
            "Requirement already satisfied: transformers<5.0.0,>=4.34.0 in /usr/local/lib/python3.10/dist-packages (from sentence_transformers) (4.41.2)\n",
            "Requirement already satisfied: tqdm in /usr/local/lib/python3.10/dist-packages (from sentence_transformers) (4.66.4)\n",
            "Requirement already satisfied: torch>=1.11.0 in /usr/local/lib/python3.10/dist-packages (from sentence_transformers) (2.3.0+cu121)\n",
            "Requirement already satisfied: numpy in /usr/local/lib/python3.10/dist-packages (from sentence_transformers) (1.25.2)\n",
            "Requirement already satisfied: scikit-learn in /usr/local/lib/python3.10/dist-packages (from sentence_transformers) (1.2.2)\n",
            "Requirement already satisfied: scipy in /usr/local/lib/python3.10/dist-packages (from sentence_transformers) (1.11.4)\n",
            "Requirement already satisfied: huggingface-hub>=0.15.1 in /usr/local/lib/python3.10/dist-packages (from sentence_transformers) (0.23.4)\n",
            "Requirement already satisfied: Pillow in /usr/local/lib/python3.10/dist-packages (from sentence_transformers) (9.4.0)\n",
            "Requirement already satisfied: filelock in /usr/local/lib/python3.10/dist-packages (from huggingface-hub>=0.15.1->sentence_transformers) (3.15.1)\n",
            "Requirement already satisfied: fsspec>=2023.5.0 in /usr/local/lib/python3.10/dist-packages (from huggingface-hub>=0.15.1->sentence_transformers) (2023.6.0)\n",
            "Requirement already satisfied: packaging>=20.9 in /usr/local/lib/python3.10/dist-packages (from huggingface-hub>=0.15.1->sentence_transformers) (24.1)\n",
            "Requirement already satisfied: pyyaml>=5.1 in /usr/local/lib/python3.10/dist-packages (from huggingface-hub>=0.15.1->sentence_transformers) (6.0.1)\n",
            "Requirement already satisfied: requests in /usr/local/lib/python3.10/dist-packages (from huggingface-hub>=0.15.1->sentence_transformers) (2.31.0)\n",
            "Requirement already satisfied: typing-extensions>=3.7.4.3 in /usr/local/lib/python3.10/dist-packages (from huggingface-hub>=0.15.1->sentence_transformers) (4.12.2)\n",
            "Requirement already satisfied: sympy in /usr/local/lib/python3.10/dist-packages (from torch>=1.11.0->sentence_transformers) (1.12.1)\n",
            "Requirement already satisfied: networkx in /usr/local/lib/python3.10/dist-packages (from torch>=1.11.0->sentence_transformers) (3.3)\n",
            "Requirement already satisfied: jinja2 in /usr/local/lib/python3.10/dist-packages (from torch>=1.11.0->sentence_transformers) (3.1.4)\n",
            "Requirement already satisfied: nvidia-cuda-nvrtc-cu12==12.1.105 in /usr/local/lib/python3.10/dist-packages (from torch>=1.11.0->sentence_transformers) (12.1.105)\n",
            "Requirement already satisfied: nvidia-cuda-runtime-cu12==12.1.105 in /usr/local/lib/python3.10/dist-packages (from torch>=1.11.0->sentence_transformers) (12.1.105)\n",
            "Requirement already satisfied: nvidia-cuda-cupti-cu12==12.1.105 in /usr/local/lib/python3.10/dist-packages (from torch>=1.11.0->sentence_transformers) (12.1.105)\n",
            "Requirement already satisfied: nvidia-cudnn-cu12==8.9.2.26 in /usr/local/lib/python3.10/dist-packages (from torch>=1.11.0->sentence_transformers) (8.9.2.26)\n",
            "Requirement already satisfied: nvidia-cublas-cu12==12.1.3.1 in /usr/local/lib/python3.10/dist-packages (from torch>=1.11.0->sentence_transformers) (12.1.3.1)\n",
            "Requirement already satisfied: nvidia-cufft-cu12==11.0.2.54 in /usr/local/lib/python3.10/dist-packages (from torch>=1.11.0->sentence_transformers) (11.0.2.54)\n",
            "Requirement already satisfied: nvidia-curand-cu12==10.3.2.106 in /usr/local/lib/python3.10/dist-packages (from torch>=1.11.0->sentence_transformers) (10.3.2.106)\n",
            "Requirement already satisfied: nvidia-cusolver-cu12==11.4.5.107 in /usr/local/lib/python3.10/dist-packages (from torch>=1.11.0->sentence_transformers) (11.4.5.107)\n",
            "Requirement already satisfied: nvidia-cusparse-cu12==12.1.0.106 in /usr/local/lib/python3.10/dist-packages (from torch>=1.11.0->sentence_transformers) (12.1.0.106)\n",
            "Requirement already satisfied: nvidia-nccl-cu12==2.20.5 in /usr/local/lib/python3.10/dist-packages (from torch>=1.11.0->sentence_transformers) (2.20.5)\n",
            "Requirement already satisfied: nvidia-nvtx-cu12==12.1.105 in /usr/local/lib/python3.10/dist-packages (from torch>=1.11.0->sentence_transformers) (12.1.105)\n",
            "Requirement already satisfied: triton==2.3.0 in /usr/local/lib/python3.10/dist-packages (from torch>=1.11.0->sentence_transformers) (2.3.0)\n",
            "Requirement already satisfied: nvidia-nvjitlink-cu12 in /usr/local/lib/python3.10/dist-packages (from nvidia-cusolver-cu12==11.4.5.107->torch>=1.11.0->sentence_transformers) (12.5.40)\n",
            "Requirement already satisfied: regex!=2019.12.17 in /usr/local/lib/python3.10/dist-packages (from transformers<5.0.0,>=4.34.0->sentence_transformers) (2024.5.15)\n",
            "Requirement already satisfied: tokenizers<0.20,>=0.19 in /usr/local/lib/python3.10/dist-packages (from transformers<5.0.0,>=4.34.0->sentence_transformers) (0.19.1)\n",
            "Requirement already satisfied: safetensors>=0.4.1 in /usr/local/lib/python3.10/dist-packages (from transformers<5.0.0,>=4.34.0->sentence_transformers) (0.4.3)\n",
            "Requirement already satisfied: joblib>=1.1.1 in /usr/local/lib/python3.10/dist-packages (from scikit-learn->sentence_transformers) (1.4.2)\n",
            "Requirement already satisfied: threadpoolctl>=2.0.0 in /usr/local/lib/python3.10/dist-packages (from scikit-learn->sentence_transformers) (3.5.0)\n",
            "Requirement already satisfied: MarkupSafe>=2.0 in /usr/local/lib/python3.10/dist-packages (from jinja2->torch>=1.11.0->sentence_transformers) (2.1.5)\n",
            "Requirement already satisfied: charset-normalizer<4,>=2 in /usr/local/lib/python3.10/dist-packages (from requests->huggingface-hub>=0.15.1->sentence_transformers) (3.3.2)\n",
            "Requirement already satisfied: idna<4,>=2.5 in /usr/local/lib/python3.10/dist-packages (from requests->huggingface-hub>=0.15.1->sentence_transformers) (3.7)\n",
            "Requirement already satisfied: urllib3<3,>=1.21.1 in /usr/local/lib/python3.10/dist-packages (from requests->huggingface-hub>=0.15.1->sentence_transformers) (2.0.7)\n",
            "Requirement already satisfied: certifi>=2017.4.17 in /usr/local/lib/python3.10/dist-packages (from requests->huggingface-hub>=0.15.1->sentence_transformers) (2024.6.2)\n",
            "Requirement already satisfied: mpmath<1.4.0,>=1.1.0 in /usr/local/lib/python3.10/dist-packages (from sympy->torch>=1.11.0->sentence_transformers) (1.3.0)\n",
            "Requirement already satisfied: langchain in /usr/local/lib/python3.10/dist-packages (0.2.5)\n",
            "Requirement already satisfied: PyYAML>=5.3 in /usr/local/lib/python3.10/dist-packages (from langchain) (6.0.1)\n",
            "Requirement already satisfied: SQLAlchemy<3,>=1.4 in /usr/local/lib/python3.10/dist-packages (from langchain) (2.0.30)\n",
            "Requirement already satisfied: aiohttp<4.0.0,>=3.8.3 in /usr/local/lib/python3.10/dist-packages (from langchain) (3.9.5)\n",
            "Requirement already satisfied: async-timeout<5.0.0,>=4.0.0 in /usr/local/lib/python3.10/dist-packages (from langchain) (4.0.3)\n",
            "Requirement already satisfied: langchain-core<0.3.0,>=0.2.7 in /usr/local/lib/python3.10/dist-packages (from langchain) (0.2.9)\n",
            "Requirement already satisfied: langchain-text-splitters<0.3.0,>=0.2.0 in /usr/local/lib/python3.10/dist-packages (from langchain) (0.2.1)\n",
            "Requirement already satisfied: langsmith<0.2.0,>=0.1.17 in /usr/local/lib/python3.10/dist-packages (from langchain) (0.1.81)\n",
            "Requirement already satisfied: numpy<2,>=1 in /usr/local/lib/python3.10/dist-packages (from langchain) (1.25.2)\n",
            "Requirement already satisfied: pydantic<3,>=1 in /usr/local/lib/python3.10/dist-packages (from langchain) (2.7.4)\n",
            "Requirement already satisfied: requests<3,>=2 in /usr/local/lib/python3.10/dist-packages (from langchain) (2.31.0)\n",
            "Requirement already satisfied: tenacity<9.0.0,>=8.1.0 in /usr/local/lib/python3.10/dist-packages (from langchain) (8.4.1)\n",
            "Requirement already satisfied: aiosignal>=1.1.2 in /usr/local/lib/python3.10/dist-packages (from aiohttp<4.0.0,>=3.8.3->langchain) (1.3.1)\n",
            "Requirement already satisfied: attrs>=17.3.0 in /usr/local/lib/python3.10/dist-packages (from aiohttp<4.0.0,>=3.8.3->langchain) (23.2.0)\n",
            "Requirement already satisfied: frozenlist>=1.1.1 in /usr/local/lib/python3.10/dist-packages (from aiohttp<4.0.0,>=3.8.3->langchain) (1.4.1)\n",
            "Requirement already satisfied: multidict<7.0,>=4.5 in /usr/local/lib/python3.10/dist-packages (from aiohttp<4.0.0,>=3.8.3->langchain) (6.0.5)\n",
            "Requirement already satisfied: yarl<2.0,>=1.0 in /usr/local/lib/python3.10/dist-packages (from aiohttp<4.0.0,>=3.8.3->langchain) (1.9.4)\n",
            "Requirement already satisfied: jsonpatch<2.0,>=1.33 in /usr/local/lib/python3.10/dist-packages (from langchain-core<0.3.0,>=0.2.7->langchain) (1.33)\n",
            "Requirement already satisfied: packaging<25,>=23.2 in /usr/local/lib/python3.10/dist-packages (from langchain-core<0.3.0,>=0.2.7->langchain) (24.1)\n",
            "Requirement already satisfied: orjson<4.0.0,>=3.9.14 in /usr/local/lib/python3.10/dist-packages (from langsmith<0.2.0,>=0.1.17->langchain) (3.10.5)\n",
            "Requirement already satisfied: annotated-types>=0.4.0 in /usr/local/lib/python3.10/dist-packages (from pydantic<3,>=1->langchain) (0.7.0)\n",
            "Requirement already satisfied: pydantic-core==2.18.4 in /usr/local/lib/python3.10/dist-packages (from pydantic<3,>=1->langchain) (2.18.4)\n",
            "Requirement already satisfied: typing-extensions>=4.6.1 in /usr/local/lib/python3.10/dist-packages (from pydantic<3,>=1->langchain) (4.12.2)\n",
            "Requirement already satisfied: charset-normalizer<4,>=2 in /usr/local/lib/python3.10/dist-packages (from requests<3,>=2->langchain) (3.3.2)\n",
            "Requirement already satisfied: idna<4,>=2.5 in /usr/local/lib/python3.10/dist-packages (from requests<3,>=2->langchain) (3.7)\n",
            "Requirement already satisfied: urllib3<3,>=1.21.1 in /usr/local/lib/python3.10/dist-packages (from requests<3,>=2->langchain) (2.0.7)\n",
            "Requirement already satisfied: certifi>=2017.4.17 in /usr/local/lib/python3.10/dist-packages (from requests<3,>=2->langchain) (2024.6.2)\n",
            "Requirement already satisfied: greenlet!=0.4.17 in /usr/local/lib/python3.10/dist-packages (from SQLAlchemy<3,>=1.4->langchain) (3.0.3)\n",
            "Requirement already satisfied: jsonpointer>=1.9 in /usr/local/lib/python3.10/dist-packages (from jsonpatch<2.0,>=1.33->langchain-core<0.3.0,>=0.2.7->langchain) (3.0.0)\n",
            "Collecting transformers==4.40.0\n",
            "  Using cached transformers-4.40.0-py3-none-any.whl (9.0 MB)\n",
            "Requirement already satisfied: filelock in /usr/local/lib/python3.10/dist-packages (from transformers==4.40.0) (3.15.1)\n",
            "Requirement already satisfied: huggingface-hub<1.0,>=0.19.3 in /usr/local/lib/python3.10/dist-packages (from transformers==4.40.0) (0.23.4)\n",
            "Requirement already satisfied: numpy>=1.17 in /usr/local/lib/python3.10/dist-packages (from transformers==4.40.0) (1.25.2)\n",
            "Requirement already satisfied: packaging>=20.0 in /usr/local/lib/python3.10/dist-packages (from transformers==4.40.0) (24.1)\n",
            "Requirement already satisfied: pyyaml>=5.1 in /usr/local/lib/python3.10/dist-packages (from transformers==4.40.0) (6.0.1)\n",
            "Requirement already satisfied: regex!=2019.12.17 in /usr/local/lib/python3.10/dist-packages (from transformers==4.40.0) (2024.5.15)\n",
            "Requirement already satisfied: requests in /usr/local/lib/python3.10/dist-packages (from transformers==4.40.0) (2.31.0)\n",
            "Requirement already satisfied: tokenizers<0.20,>=0.19 in /usr/local/lib/python3.10/dist-packages (from transformers==4.40.0) (0.19.1)\n",
            "Requirement already satisfied: safetensors>=0.4.1 in /usr/local/lib/python3.10/dist-packages (from transformers==4.40.0) (0.4.3)\n",
            "Requirement already satisfied: tqdm>=4.27 in /usr/local/lib/python3.10/dist-packages (from transformers==4.40.0) (4.66.4)\n",
            "Requirement already satisfied: fsspec>=2023.5.0 in /usr/local/lib/python3.10/dist-packages (from huggingface-hub<1.0,>=0.19.3->transformers==4.40.0) (2023.6.0)\n",
            "Requirement already satisfied: typing-extensions>=3.7.4.3 in /usr/local/lib/python3.10/dist-packages (from huggingface-hub<1.0,>=0.19.3->transformers==4.40.0) (4.12.2)\n",
            "Requirement already satisfied: charset-normalizer<4,>=2 in /usr/local/lib/python3.10/dist-packages (from requests->transformers==4.40.0) (3.3.2)\n",
            "Requirement already satisfied: idna<4,>=2.5 in /usr/local/lib/python3.10/dist-packages (from requests->transformers==4.40.0) (3.7)\n",
            "Requirement already satisfied: urllib3<3,>=1.21.1 in /usr/local/lib/python3.10/dist-packages (from requests->transformers==4.40.0) (2.0.7)\n",
            "Requirement already satisfied: certifi>=2017.4.17 in /usr/local/lib/python3.10/dist-packages (from requests->transformers==4.40.0) (2024.6.2)\n",
            "Installing collected packages: transformers\n",
            "  Attempting uninstall: transformers\n",
            "    Found existing installation: transformers 4.41.2\n",
            "    Uninstalling transformers-4.41.2:\n",
            "      Successfully uninstalled transformers-4.41.2\n",
            "Successfully installed transformers-4.40.0\n"
          ]
        },
        {
          "output_type": "display_data",
          "data": {
            "application/vnd.colab-display-data+json": {
              "pip_warning": {
                "packages": [
                  "transformers"
                ]
              },
              "id": "cf47e51a4213458195796186512090e6"
            }
          },
          "metadata": {}
        },
        {
          "output_type": "stream",
          "name": "stdout",
          "text": [
            "Requirement already satisfied: accelerate in /usr/local/lib/python3.10/dist-packages (0.31.0)\n",
            "Requirement already satisfied: bitsandbytes in /usr/local/lib/python3.10/dist-packages (0.43.1)\n",
            "Requirement already satisfied: numpy>=1.17 in /usr/local/lib/python3.10/dist-packages (from accelerate) (1.25.2)\n",
            "Requirement already satisfied: packaging>=20.0 in /usr/local/lib/python3.10/dist-packages (from accelerate) (24.1)\n",
            "Requirement already satisfied: psutil in /usr/local/lib/python3.10/dist-packages (from accelerate) (5.9.5)\n",
            "Requirement already satisfied: pyyaml in /usr/local/lib/python3.10/dist-packages (from accelerate) (6.0.1)\n",
            "Requirement already satisfied: torch>=1.10.0 in /usr/local/lib/python3.10/dist-packages (from accelerate) (2.3.0+cu121)\n",
            "Requirement already satisfied: huggingface-hub in /usr/local/lib/python3.10/dist-packages (from accelerate) (0.23.4)\n",
            "Requirement already satisfied: safetensors>=0.3.1 in /usr/local/lib/python3.10/dist-packages (from accelerate) (0.4.3)\n",
            "Requirement already satisfied: filelock in /usr/local/lib/python3.10/dist-packages (from torch>=1.10.0->accelerate) (3.15.1)\n",
            "Requirement already satisfied: typing-extensions>=4.8.0 in /usr/local/lib/python3.10/dist-packages (from torch>=1.10.0->accelerate) (4.12.2)\n",
            "Requirement already satisfied: sympy in /usr/local/lib/python3.10/dist-packages (from torch>=1.10.0->accelerate) (1.12.1)\n",
            "Requirement already satisfied: networkx in /usr/local/lib/python3.10/dist-packages (from torch>=1.10.0->accelerate) (3.3)\n",
            "Requirement already satisfied: jinja2 in /usr/local/lib/python3.10/dist-packages (from torch>=1.10.0->accelerate) (3.1.4)\n",
            "Requirement already satisfied: fsspec in /usr/local/lib/python3.10/dist-packages (from torch>=1.10.0->accelerate) (2023.6.0)\n",
            "Requirement already satisfied: nvidia-cuda-nvrtc-cu12==12.1.105 in /usr/local/lib/python3.10/dist-packages (from torch>=1.10.0->accelerate) (12.1.105)\n",
            "Requirement already satisfied: nvidia-cuda-runtime-cu12==12.1.105 in /usr/local/lib/python3.10/dist-packages (from torch>=1.10.0->accelerate) (12.1.105)\n",
            "Requirement already satisfied: nvidia-cuda-cupti-cu12==12.1.105 in /usr/local/lib/python3.10/dist-packages (from torch>=1.10.0->accelerate) (12.1.105)\n",
            "Requirement already satisfied: nvidia-cudnn-cu12==8.9.2.26 in /usr/local/lib/python3.10/dist-packages (from torch>=1.10.0->accelerate) (8.9.2.26)\n",
            "Requirement already satisfied: nvidia-cublas-cu12==12.1.3.1 in /usr/local/lib/python3.10/dist-packages (from torch>=1.10.0->accelerate) (12.1.3.1)\n",
            "Requirement already satisfied: nvidia-cufft-cu12==11.0.2.54 in /usr/local/lib/python3.10/dist-packages (from torch>=1.10.0->accelerate) (11.0.2.54)\n",
            "Requirement already satisfied: nvidia-curand-cu12==10.3.2.106 in /usr/local/lib/python3.10/dist-packages (from torch>=1.10.0->accelerate) (10.3.2.106)\n",
            "Requirement already satisfied: nvidia-cusolver-cu12==11.4.5.107 in /usr/local/lib/python3.10/dist-packages (from torch>=1.10.0->accelerate) (11.4.5.107)\n",
            "Requirement already satisfied: nvidia-cusparse-cu12==12.1.0.106 in /usr/local/lib/python3.10/dist-packages (from torch>=1.10.0->accelerate) (12.1.0.106)\n",
            "Requirement already satisfied: nvidia-nccl-cu12==2.20.5 in /usr/local/lib/python3.10/dist-packages (from torch>=1.10.0->accelerate) (2.20.5)\n",
            "Requirement already satisfied: nvidia-nvtx-cu12==12.1.105 in /usr/local/lib/python3.10/dist-packages (from torch>=1.10.0->accelerate) (12.1.105)\n",
            "Requirement already satisfied: triton==2.3.0 in /usr/local/lib/python3.10/dist-packages (from torch>=1.10.0->accelerate) (2.3.0)\n",
            "Requirement already satisfied: nvidia-nvjitlink-cu12 in /usr/local/lib/python3.10/dist-packages (from nvidia-cusolver-cu12==11.4.5.107->torch>=1.10.0->accelerate) (12.5.40)\n",
            "Requirement already satisfied: requests in /usr/local/lib/python3.10/dist-packages (from huggingface-hub->accelerate) (2.31.0)\n",
            "Requirement already satisfied: tqdm>=4.42.1 in /usr/local/lib/python3.10/dist-packages (from huggingface-hub->accelerate) (4.66.4)\n",
            "Requirement already satisfied: MarkupSafe>=2.0 in /usr/local/lib/python3.10/dist-packages (from jinja2->torch>=1.10.0->accelerate) (2.1.5)\n",
            "Requirement already satisfied: charset-normalizer<4,>=2 in /usr/local/lib/python3.10/dist-packages (from requests->huggingface-hub->accelerate) (3.3.2)\n",
            "Requirement already satisfied: idna<4,>=2.5 in /usr/local/lib/python3.10/dist-packages (from requests->huggingface-hub->accelerate) (3.7)\n",
            "Requirement already satisfied: urllib3<3,>=1.21.1 in /usr/local/lib/python3.10/dist-packages (from requests->huggingface-hub->accelerate) (2.0.7)\n",
            "Requirement already satisfied: certifi>=2017.4.17 in /usr/local/lib/python3.10/dist-packages (from requests->huggingface-hub->accelerate) (2024.6.2)\n",
            "Requirement already satisfied: mpmath<1.4.0,>=1.1.0 in /usr/local/lib/python3.10/dist-packages (from sympy->torch>=1.10.0->accelerate) (1.3.0)\n"
          ]
        }
      ],
      "source": [
        "!pip install --upgrade --quiet  lark qdrant-client langchain_community transformers accelerate bitsandbytes langchain_core\n",
        "!pip install sentence_transformers\n",
        "!pip install langchain\n",
        "!pip install -U \"transformers==4.40.0\" --upgrade\n",
        "!pip install accelerate bitsandbytes"
      ]
    },
    {
      "cell_type": "code",
      "execution_count": 55,
      "metadata": {
        "id": "aISdeKTkrrlh"
      },
      "outputs": [],
      "source": [
        "ids = df.index\n",
        "documents = df['sentences']\n",
        "# documents: List[str] = df['sentences']"
      ]
    },
    {
      "cell_type": "code",
      "execution_count": 56,
      "metadata": {
        "id": "8EBnGyQMrsYL"
      },
      "outputs": [],
      "source": [
        "metadata = df.fillna(\"\").to_dict(orient='records')"
      ]
    },
    {
      "cell_type": "code",
      "execution_count": 57,
      "metadata": {
        "id": "RPZ2XhEAr3LC"
      },
      "outputs": [],
      "source": [
        "# Name of Qdrant Collection for saving vectors\n",
        "QD_COLLECTION_NAME = \"ecomercedata\""
      ]
    },
    {
      "cell_type": "code",
      "execution_count": 58,
      "metadata": {
        "colab": {
          "base_uri": "https://localhost:8080/"
        },
        "id": "7ZdJHsSeJ-ri",
        "outputId": "579cf95e-7f08-4edf-ec77-8c4c9e74e189"
      },
      "outputs": [
        {
          "output_type": "stream",
          "name": "stdout",
          "text": [
            "page_content='title bastex back cover for moto g9\\xa0\\xa0(multicolor). url https://www.flipkart.com/bastex-back-cover-moto-g9/p/itmb772e270a8476. pid itmb772e270a8476. formatted_url https://www.flipkart.com/product/p/itmb772e270a8476. brand 0. stock 0. f_assured false. price 219. currency inr. original_price 999. discount 78% off' metadata={'title': 'Bastex Back Cover for Moto G9\\xa0\\xa0(Multicolor)', 'url': 'https://www.flipkart.com/bastex-back-cover-moto-g9/p/itmb772e270a8476', 'pid': 'itmb772e270a8476', 'formatted_url': 'https://www.flipkart.com/product/p/itmb772e270a8476', 'brand': '0', 'stock': '0', 'f_assured': False, 'price': '219', 'currency': 'INR', 'original_price': '999', 'discount': '78% off'}\n"
          ]
        }
      ],
      "source": [
        "import pandas as pd\n",
        "from langchain.schema import Document\n",
        "from typing import List\n",
        "\n",
        "# Function to convert DataFrame to list of Documents\n",
        "def df_to_documents(df: pd.DataFrame) -> List[Document]:\n",
        "    documents = []\n",
        "    for _, row in df.iterrows():\n",
        "        metadata = {\n",
        "            \"title\": row[\"title\"],\n",
        "            \"url\": row[\"url\"],\n",
        "            \"pid\": row[\"pid\"],\n",
        "            \"formatted_url\": row[\"formatted_url\"],\n",
        "            \"brand\": row[\"brand\"],\n",
        "            \"stock\": row[\"stock\"],\n",
        "            \"f_assured\": row[\"f_assured\"],\n",
        "            \"price\": row[\"price\"],\n",
        "            \"currency\": row[\"currency\"],\n",
        "            \"original_price\": row[\"original_price\"],\n",
        "            \"discount\": row[\"discount\"],\n",
        "            # \"images\": row[\"images\"],\n",
        "            # \"seller\": row[\"seller\"],\n",
        "            # \"seller_rating\": row[\"seller_rating\"],\n",
        "            # \"return_policy\": row[\"return_policy\"],\n",
        "            # \"description\": row[\"description\"],\n",
        "            # \"highlights\": row[\"highlights\"],\n",
        "            # \"specifications\": row[\"specifications\"],\n",
        "            # \"avg_rating\": row[\"avg_rating\"],\n",
        "            # \"reviews_count\": row[\"reviews_count\"],\n",
        "            # \"category\": row[\"category\"],\n",
        "            # \"sub_category_1\": row[\"sub_category_1\"],\n",
        "            # \"sub_category_2\": row[\"sub_category_2\"],\n",
        "            # \"breadcrumbs\": row[\"breadcrumbs\"],\n",
        "            # \"payment_options\": row[\"payment_options\"],\n",
        "            # \"uniq_id\": row[\"uniq_id\"],\n",
        "            # \"scraped_at\": row[\"scraped_at\"]\n",
        "        }\n",
        "        doc = Document(page_content=row[\"sentences\"], metadata=metadata)\n",
        "        documents.append(doc)\n",
        "    return documents\n",
        "\n",
        "# Convert DataFrame to list of Documents\n",
        "documents = df_to_documents(df)\n",
        "\n",
        "# Print the first Document for verification\n",
        "print(documents[0])\n"
      ]
    },
    {
      "cell_type": "code",
      "execution_count": 59,
      "metadata": {
        "colab": {
          "base_uri": "https://localhost:8080/"
        },
        "id": "QmjzuzGaKiCX",
        "outputId": "80e6ec3f-0740-4cb2-8290-07a753e799ab",
        "collapsed": true
      },
      "outputs": [
        {
          "output_type": "stream",
          "name": "stderr",
          "text": [
            "/usr/local/lib/python3.10/dist-packages/huggingface_hub/file_download.py:1132: FutureWarning: `resume_download` is deprecated and will be removed in version 1.0.0. Downloads always resume when possible. If you want to force a new download, use `force_download=True`.\n",
            "  warnings.warn(\n"
          ]
        }
      ],
      "source": [
        "from langchain_community.embeddings.huggingface import HuggingFaceEmbeddings\n",
        "\n",
        "embeddings = HuggingFaceEmbeddings(\n",
        "    model_name=\"sentence-transformers/all-mpnet-base-v2\"\n",
        ")"
      ]
    },
    {
      "cell_type": "code",
      "execution_count": 60,
      "metadata": {
        "id": "vshfnNyCDGwe"
      },
      "outputs": [],
      "source": [
        "from langchain_community.vectorstores import Qdrant\n",
        "from langchain_core.documents import Document\n",
        "\n",
        "vectorstore = Qdrant.from_documents(\n",
        "    documents,\n",
        "    embeddings,\n",
        "    location=\":memory:\",  # Local mode with in-memory storage only\n",
        "    collection_name=QD_COLLECTION_NAME,\n",
        ")"
      ]
    },
    {
      "cell_type": "code",
      "execution_count": 61,
      "metadata": {
        "id": "qO8WJKRgr7IT"
      },
      "outputs": [],
      "source": [
        "# from qdrant_client import QdrantClient\n",
        "\n",
        "# client = QdrantClient(\":memory:\")\n",
        "\n",
        "# client.add(\n",
        "#     collection_name=QD_COLLECTION_NAME,\n",
        "#     ids=ids,\n",
        "#     documents=documents,\n",
        "#     metadata=metadata,\n",
        "# )\n",
        "\n",
        "# print(\"Completed\")"
      ]
    },
    {
      "cell_type": "code",
      "execution_count": 62,
      "metadata": {
        "id": "0FhpV1cisD2q"
      },
      "outputs": [],
      "source": [
        "# # This function displays the results understandable output\n",
        "\n",
        "# def display_results(results):\n",
        "#     for i, result in enumerate(results):\n",
        "#         print()\n",
        "#         print(f\"{i+1})\")\n",
        "#         for k, v in result.metadata.items():\n",
        "#             if k != \"document\":\n",
        "#                 print(f\"{k.capitalize()}: {v}\")"
      ]
    },
    {
      "cell_type": "code",
      "execution_count": 63,
      "metadata": {
        "id": "FbGmHNDesOkH"
      },
      "outputs": [],
      "source": [
        "# results = client.query(\n",
        "#     collection_name=QD_COLLECTION_NAME,\n",
        "#     query_text=\"amd ryzen laptops\",\n",
        "#     limit=5\n",
        "# )\n",
        "# display_results(results)"
      ]
    },
    {
      "cell_type": "code",
      "execution_count": 64,
      "metadata": {
        "id": "l_CIyRDSsTPW"
      },
      "outputs": [],
      "source": [
        "from langchain.chains.query_constructor.base import AttributeInfo\n",
        "from langchain.retrievers.self_query.base import SelfQueryRetriever\n",
        "metadata_field_info = [\n",
        "    AttributeInfo(name=\"title\", description=\"Title of the product\", type=\"string\"),\n",
        "    AttributeInfo(name=\"url\", description=\"URL of the product page\", type=\"string\"),\n",
        "    AttributeInfo(name=\"pid\", description=\"Product ID\", type=\"string\"),\n",
        "    AttributeInfo(name=\"formatted_url\", description=\"Formatted URL of the product page\", type=\"string\"),\n",
        "    AttributeInfo(name=\"brand\", description=\"Brand of the product\", type=\"string\"),\n",
        "    AttributeInfo(name=\"stock\", description=\"Stock status of the product\", type=\"string\"),\n",
        "    AttributeInfo(name=\"f_assured\", description=\"Flipkart assured status\", type=\"boolean\"),\n",
        "    AttributeInfo(name=\"price\", description=\"Price of the product\", type=\"float\"),\n",
        "    AttributeInfo(name=\"currency\", description=\"Currency of the price\", type=\"string\"),\n",
        "    AttributeInfo(name=\"original_price\", description=\"Original price of the product\", type=\"float\"),\n",
        "    AttributeInfo(name=\"discount\", description=\"Discount on the product\", type=\"string\"),\n",
        "    # AttributeInfo(name=\"images\", description=\"Images of the product\", type=\"string\"),\n",
        "    # AttributeInfo(name=\"seller\", description=\"Seller of the product\", type=\"string\"),\n",
        "    # AttributeInfo(name=\"seller_rating\", description=\"Rating of the seller\", type=\"float\"),\n",
        "    # AttributeInfo(name=\"return_policy\", description=\"Return policy of the product\", type=\"string\"),\n",
        "    # AttributeInfo(name=\"description\", description=\"Description of the product\", type=\"string\"),\n",
        "    # AttributeInfo(name=\"highlights\", description=\"Highlights of the product\", type=\"string\"),\n",
        "    # AttributeInfo(name=\"specifications\", description=\"Specifications of the product\", type=\"string\"),\n",
        "    # AttributeInfo(name=\"avg_rating\", description=\"Average rating of the product\", type=\"float\"),\n",
        "    # AttributeInfo(name=\"reviews_count\", description=\"Number of reviews for the product\", type=\"integer\"),\n",
        "    # AttributeInfo(name=\"category\", description=\"Category of the product\", type=\"string\"),\n",
        "    # AttributeInfo(name=\"sub_category_1\", description=\"Sub-category level 1\", type=\"string\"),\n",
        "    # AttributeInfo(name=\"sub_category_2\", description=\"Sub-category level 2\", type=\"string\"),\n",
        "    # AttributeInfo(name=\"breadcrumbs\", description=\"Breadcrumbs for navigation\", type=\"string\"),\n",
        "    # AttributeInfo(name=\"payment_options\", description=\"Payment options available for the product\", type=\"string\"),\n",
        "    # AttributeInfo(name=\"uniq_id\", description=\"Unique ID for the product\", type=\"string\"),\n",
        "    # AttributeInfo(name=\"scraped_at\", description=\"Scraped date of the product\", type=\"string\"),\n",
        "]\n",
        "\n",
        "document_content_description = \"Product details including title, price, brand, description, and specifications.\"\n",
        "\n",
        "# Initialize LLM\n",
        "# llm = ChatOpenAI(temperature=0)\n"
      ]
    },
    {
      "cell_type": "code",
      "execution_count": 65,
      "metadata": {
        "colab": {
          "base_uri": "https://localhost:8080/"
        },
        "id": "OwRt3j8J44uW",
        "outputId": "3b7a8e36-a1ac-4b03-a670-bed2ff255e6e",
        "collapsed": true
      },
      "outputs": [
        {
          "output_type": "stream",
          "name": "stdout",
          "text": [
            "Requirement already satisfied: bitsandbytes in /usr/local/lib/python3.10/dist-packages (0.43.1)\n",
            "Requirement already satisfied: torch in /usr/local/lib/python3.10/dist-packages (from bitsandbytes) (2.3.0+cu121)\n",
            "Requirement already satisfied: numpy in /usr/local/lib/python3.10/dist-packages (from bitsandbytes) (1.25.2)\n",
            "Requirement already satisfied: filelock in /usr/local/lib/python3.10/dist-packages (from torch->bitsandbytes) (3.15.1)\n",
            "Requirement already satisfied: typing-extensions>=4.8.0 in /usr/local/lib/python3.10/dist-packages (from torch->bitsandbytes) (4.12.2)\n",
            "Requirement already satisfied: sympy in /usr/local/lib/python3.10/dist-packages (from torch->bitsandbytes) (1.12.1)\n",
            "Requirement already satisfied: networkx in /usr/local/lib/python3.10/dist-packages (from torch->bitsandbytes) (3.3)\n",
            "Requirement already satisfied: jinja2 in /usr/local/lib/python3.10/dist-packages (from torch->bitsandbytes) (3.1.4)\n",
            "Requirement already satisfied: fsspec in /usr/local/lib/python3.10/dist-packages (from torch->bitsandbytes) (2023.6.0)\n",
            "Requirement already satisfied: nvidia-cuda-nvrtc-cu12==12.1.105 in /usr/local/lib/python3.10/dist-packages (from torch->bitsandbytes) (12.1.105)\n",
            "Requirement already satisfied: nvidia-cuda-runtime-cu12==12.1.105 in /usr/local/lib/python3.10/dist-packages (from torch->bitsandbytes) (12.1.105)\n",
            "Requirement already satisfied: nvidia-cuda-cupti-cu12==12.1.105 in /usr/local/lib/python3.10/dist-packages (from torch->bitsandbytes) (12.1.105)\n",
            "Requirement already satisfied: nvidia-cudnn-cu12==8.9.2.26 in /usr/local/lib/python3.10/dist-packages (from torch->bitsandbytes) (8.9.2.26)\n",
            "Requirement already satisfied: nvidia-cublas-cu12==12.1.3.1 in /usr/local/lib/python3.10/dist-packages (from torch->bitsandbytes) (12.1.3.1)\n",
            "Requirement already satisfied: nvidia-cufft-cu12==11.0.2.54 in /usr/local/lib/python3.10/dist-packages (from torch->bitsandbytes) (11.0.2.54)\n",
            "Requirement already satisfied: nvidia-curand-cu12==10.3.2.106 in /usr/local/lib/python3.10/dist-packages (from torch->bitsandbytes) (10.3.2.106)\n",
            "Requirement already satisfied: nvidia-cusolver-cu12==11.4.5.107 in /usr/local/lib/python3.10/dist-packages (from torch->bitsandbytes) (11.4.5.107)\n",
            "Requirement already satisfied: nvidia-cusparse-cu12==12.1.0.106 in /usr/local/lib/python3.10/dist-packages (from torch->bitsandbytes) (12.1.0.106)\n",
            "Requirement already satisfied: nvidia-nccl-cu12==2.20.5 in /usr/local/lib/python3.10/dist-packages (from torch->bitsandbytes) (2.20.5)\n",
            "Requirement already satisfied: nvidia-nvtx-cu12==12.1.105 in /usr/local/lib/python3.10/dist-packages (from torch->bitsandbytes) (12.1.105)\n",
            "Requirement already satisfied: triton==2.3.0 in /usr/local/lib/python3.10/dist-packages (from torch->bitsandbytes) (2.3.0)\n",
            "Requirement already satisfied: nvidia-nvjitlink-cu12 in /usr/local/lib/python3.10/dist-packages (from nvidia-cusolver-cu12==11.4.5.107->torch->bitsandbytes) (12.5.40)\n",
            "Requirement already satisfied: MarkupSafe>=2.0 in /usr/local/lib/python3.10/dist-packages (from jinja2->torch->bitsandbytes) (2.1.5)\n",
            "Requirement already satisfied: mpmath<1.4.0,>=1.1.0 in /usr/local/lib/python3.10/dist-packages (from sympy->torch->bitsandbytes) (1.3.0)\n"
          ]
        }
      ],
      "source": [
        "!pip install bitsandbytes"
      ]
    },
    {
      "cell_type": "code",
      "execution_count": 66,
      "metadata": {
        "id": "uq7dWbUgxomR"
      },
      "outputs": [],
      "source": [
        "from transformers import AutoTokenizer,AutoModelForCausalLM,AutoConfig\n",
        "from time import time\n",
        "import transformers\n",
        "import torch"
      ]
    },
    {
      "cell_type": "code",
      "execution_count": 67,
      "metadata": {
        "id": "_zqtFdIi4A8P",
        "collapsed": true
      },
      "outputs": [],
      "source": [
        "model_checkpoint = 'TinyLlama/TinyLlama-1.1B-Chat-v1.0'\n",
        "model_config = AutoConfig.from_pretrained(model_checkpoint,\n",
        "                                          trust_remote_code=True,\n",
        "                                          max_new_tokens=1024)"
      ]
    },
    {
      "cell_type": "code",
      "execution_count": 68,
      "metadata": {
        "id": "w3Bf3AVl5h-v"
      },
      "outputs": [],
      "source": [
        "model = AutoModelForCausalLM.from_pretrained(model_checkpoint,\n",
        "                                             trust_remote_code=True,\n",
        "                                             config=model_config,\n",
        "                                             device_map='auto')"
      ]
    },
    {
      "cell_type": "code",
      "execution_count": 69,
      "metadata": {
        "id": "pJFM5-gJ6WIB"
      },
      "outputs": [],
      "source": [
        "tokenizer = AutoTokenizer.from_pretrained(model_checkpoint)"
      ]
    },
    {
      "cell_type": "code",
      "execution_count": 70,
      "metadata": {
        "id": "mxmRgY3q7RDu"
      },
      "outputs": [],
      "source": [
        "from transformers import pipeline\n",
        "from langchain.llms import HuggingFacePipeline"
      ]
    },
    {
      "cell_type": "code",
      "execution_count": 71,
      "metadata": {
        "id": "cL1bBn4E7ieD"
      },
      "outputs": [],
      "source": [
        "pipeline = pipeline(\"text-generation\",\n",
        "                    model=model,\n",
        "                    tokenizer=tokenizer,\n",
        "                    torch_dtype=torch.float16,\n",
        "                    max_length=3000,\n",
        "                    device_map=\"auto\",)"
      ]
    },
    {
      "cell_type": "code",
      "execution_count": 72,
      "metadata": {
        "id": "Ds9kqqsC7tq3"
      },
      "outputs": [],
      "source": [
        "llm = HuggingFacePipeline(pipeline=pipeline)"
      ]
    },
    {
      "cell_type": "code",
      "source": [
        "llm.invoke(\"I want redme info\")"
      ],
      "metadata": {
        "colab": {
          "base_uri": "https://localhost:8080/",
          "height": 87
        },
        "id": "cqa78i9WlA53",
        "outputId": "50da0589-fb6b-4463-82f6-74f61dafcc6f"
      },
      "execution_count": 73,
      "outputs": [
        {
          "output_type": "execute_result",
          "data": {
            "text/plain": [
              "'I want redme info to be able to provide me with the best possible service.\\n\\nI appreciate your time and effort in helping me with my inquiry. Please let me know if you need any further information or if there is anything else I can do to assist you.\\n\\nThank you again for your time and attention to this matter.\\n\\nBest regards,\\n\\n[Your Name]'"
            ],
            "application/vnd.google.colaboratory.intrinsic+json": {
              "type": "string"
            }
          },
          "metadata": {},
          "execution_count": 73
        }
      ]
    },
    {
      "cell_type": "code",
      "source": [
        "vectorstore.similarity_search(\"I want redme info\",k=1)"
      ],
      "metadata": {
        "colab": {
          "base_uri": "https://localhost:8080/"
        },
        "id": "njpeVJislIWQ",
        "outputId": "8b8e8885-95cb-4542-819c-5af4a493df53"
      },
      "execution_count": 74,
      "outputs": [
        {
          "output_type": "execute_result",
          "data": {
            "text/plain": [
              "[Document(page_content='title quadronic back cover for redmi note 9 pro max, smoke translucent shock proof smooth rubberized matte hard back case cover\\xa0\\xa0(green). url https://www.flipkart.com/quadronic-back-cover-redmi-note-9-pro-max-smoke-translucent-shock-proof-smooth-rubberized-matte-hard-case/p/itm89ba80122e631. pid itm89ba80122e631. formatted_url https://www.flipkart.com/product/p/itm89ba80122e631. brand 0. stock hurry, only a few left!. f_assured true. price 179. currency inr. original_price 398. discount 55% off', metadata={'title': 'quadronic Back Cover for Redmi Note 9 Pro Max, Smoke Translucent Shock Proof Smooth Rubberized Matte Hard Back Case Cover\\xa0\\xa0(Green)', 'url': 'https://www.flipkart.com/quadronic-back-cover-redmi-note-9-pro-max-smoke-translucent-shock-proof-smooth-rubberized-matte-hard-case/p/itm89ba80122e631', 'pid': 'itm89ba80122e631', 'formatted_url': 'https://www.flipkart.com/product/p/itm89ba80122e631', 'brand': '0', 'stock': 'Hurry, Only a few left!', 'f_assured': True, 'price': '179', 'currency': 'INR', 'original_price': '398', 'discount': '55% off', '_id': '93f697a7da6b452fa259665ce3903e66', '_collection_name': 'ecomercedata'})]"
            ]
          },
          "metadata": {},
          "execution_count": 74
        }
      ]
    },
    {
      "cell_type": "code",
      "source": [
        "# !pip install langchain==0.1.7"
      ],
      "metadata": {
        "id": "LUeBqnsZIB0f"
      },
      "execution_count": 75,
      "outputs": []
    },
    {
      "cell_type": "code",
      "source": [
        "import langchain\n",
        "langchain.__version__"
      ],
      "metadata": {
        "colab": {
          "base_uri": "https://localhost:8080/",
          "height": 35
        },
        "id": "P5hRuoBcBxrx",
        "outputId": "abc54dba-7dc8-4f8a-9a31-924c7727ae48"
      },
      "execution_count": 76,
      "outputs": [
        {
          "output_type": "execute_result",
          "data": {
            "text/plain": [
              "'0.2.5'"
            ],
            "application/vnd.google.colaboratory.intrinsic+json": {
              "type": "string"
            }
          },
          "metadata": {},
          "execution_count": 76
        }
      ]
    },
    {
      "cell_type": "code",
      "execution_count": 77,
      "metadata": {
        "id": "E_L1gWMN9re_"
      },
      "outputs": [],
      "source": [
        "from langchain.chains.query_constructor.base import AttributeInfo\n",
        "from langchain.retrievers.self_query.base import SelfQueryRetriever\n",
        "import lark\n",
        "\n",
        "document_content_description = \"Product details including title, price, brand, description, and specifications.\"\n",
        "document_content_description = \"Brief summary of a movie\"\n"
      ]
    },
    {
      "cell_type": "code",
      "source": [
        "# Define allowed comparators list\n",
        "allowed_comparators = [\n",
        "    \"$eq\",  # Equal to (number, string, boolean)\n",
        "    \"$ne\",  # Not equal to (number, string, boolean)\n",
        "    \"$gt\",  # Greater than (number)\n",
        "    \"$gte\",  # Greater than or equal to (number)\n",
        "    \"$lt\",  # Less than (number)\n",
        "    \"$lte\",  # Less than or equal to (number)\n",
        "    \"$in\",  # In array (string or number)\n",
        "    \"$nin\",  # Not in array (string or number)\n",
        "    \"$exists\", # Has the specified metadata field (boolean)\n",
        "]\n"
      ],
      "metadata": {
        "id": "QIqZPPwJm-TI"
      },
      "execution_count": 78,
      "outputs": []
    },
    {
      "cell_type": "code",
      "source": [
        "!pip install langchain-community langchain-core"
      ],
      "metadata": {
        "colab": {
          "base_uri": "https://localhost:8080/"
        },
        "id": "hI5R0OMQbJBk",
        "outputId": "3a6ba5bb-f660-42f4-a805-4823e482989a"
      },
      "execution_count": 79,
      "outputs": [
        {
          "output_type": "stream",
          "name": "stdout",
          "text": [
            "Requirement already satisfied: langchain-community in /usr/local/lib/python3.10/dist-packages (0.2.5)\n",
            "Requirement already satisfied: langchain-core in /usr/local/lib/python3.10/dist-packages (0.2.9)\n",
            "Requirement already satisfied: PyYAML>=5.3 in /usr/local/lib/python3.10/dist-packages (from langchain-community) (6.0.1)\n",
            "Requirement already satisfied: SQLAlchemy<3,>=1.4 in /usr/local/lib/python3.10/dist-packages (from langchain-community) (2.0.30)\n",
            "Requirement already satisfied: aiohttp<4.0.0,>=3.8.3 in /usr/local/lib/python3.10/dist-packages (from langchain-community) (3.9.5)\n",
            "Requirement already satisfied: dataclasses-json<0.7,>=0.5.7 in /usr/local/lib/python3.10/dist-packages (from langchain-community) (0.6.7)\n",
            "Requirement already satisfied: langchain<0.3.0,>=0.2.5 in /usr/local/lib/python3.10/dist-packages (from langchain-community) (0.2.5)\n",
            "Requirement already satisfied: langsmith<0.2.0,>=0.1.0 in /usr/local/lib/python3.10/dist-packages (from langchain-community) (0.1.81)\n",
            "Requirement already satisfied: numpy<2,>=1 in /usr/local/lib/python3.10/dist-packages (from langchain-community) (1.25.2)\n",
            "Requirement already satisfied: requests<3,>=2 in /usr/local/lib/python3.10/dist-packages (from langchain-community) (2.31.0)\n",
            "Requirement already satisfied: tenacity<9.0.0,>=8.1.0 in /usr/local/lib/python3.10/dist-packages (from langchain-community) (8.4.1)\n",
            "Requirement already satisfied: jsonpatch<2.0,>=1.33 in /usr/local/lib/python3.10/dist-packages (from langchain-core) (1.33)\n",
            "Requirement already satisfied: packaging<25,>=23.2 in /usr/local/lib/python3.10/dist-packages (from langchain-core) (24.1)\n",
            "Requirement already satisfied: pydantic<3,>=1 in /usr/local/lib/python3.10/dist-packages (from langchain-core) (2.7.4)\n",
            "Requirement already satisfied: aiosignal>=1.1.2 in /usr/local/lib/python3.10/dist-packages (from aiohttp<4.0.0,>=3.8.3->langchain-community) (1.3.1)\n",
            "Requirement already satisfied: attrs>=17.3.0 in /usr/local/lib/python3.10/dist-packages (from aiohttp<4.0.0,>=3.8.3->langchain-community) (23.2.0)\n",
            "Requirement already satisfied: frozenlist>=1.1.1 in /usr/local/lib/python3.10/dist-packages (from aiohttp<4.0.0,>=3.8.3->langchain-community) (1.4.1)\n",
            "Requirement already satisfied: multidict<7.0,>=4.5 in /usr/local/lib/python3.10/dist-packages (from aiohttp<4.0.0,>=3.8.3->langchain-community) (6.0.5)\n",
            "Requirement already satisfied: yarl<2.0,>=1.0 in /usr/local/lib/python3.10/dist-packages (from aiohttp<4.0.0,>=3.8.3->langchain-community) (1.9.4)\n",
            "Requirement already satisfied: async-timeout<5.0,>=4.0 in /usr/local/lib/python3.10/dist-packages (from aiohttp<4.0.0,>=3.8.3->langchain-community) (4.0.3)\n",
            "Requirement already satisfied: marshmallow<4.0.0,>=3.18.0 in /usr/local/lib/python3.10/dist-packages (from dataclasses-json<0.7,>=0.5.7->langchain-community) (3.21.3)\n",
            "Requirement already satisfied: typing-inspect<1,>=0.4.0 in /usr/local/lib/python3.10/dist-packages (from dataclasses-json<0.7,>=0.5.7->langchain-community) (0.9.0)\n",
            "Requirement already satisfied: jsonpointer>=1.9 in /usr/local/lib/python3.10/dist-packages (from jsonpatch<2.0,>=1.33->langchain-core) (3.0.0)\n",
            "Requirement already satisfied: langchain-text-splitters<0.3.0,>=0.2.0 in /usr/local/lib/python3.10/dist-packages (from langchain<0.3.0,>=0.2.5->langchain-community) (0.2.1)\n",
            "Requirement already satisfied: orjson<4.0.0,>=3.9.14 in /usr/local/lib/python3.10/dist-packages (from langsmith<0.2.0,>=0.1.0->langchain-community) (3.10.5)\n",
            "Requirement already satisfied: annotated-types>=0.4.0 in /usr/local/lib/python3.10/dist-packages (from pydantic<3,>=1->langchain-core) (0.7.0)\n",
            "Requirement already satisfied: pydantic-core==2.18.4 in /usr/local/lib/python3.10/dist-packages (from pydantic<3,>=1->langchain-core) (2.18.4)\n",
            "Requirement already satisfied: typing-extensions>=4.6.1 in /usr/local/lib/python3.10/dist-packages (from pydantic<3,>=1->langchain-core) (4.12.2)\n",
            "Requirement already satisfied: charset-normalizer<4,>=2 in /usr/local/lib/python3.10/dist-packages (from requests<3,>=2->langchain-community) (3.3.2)\n",
            "Requirement already satisfied: idna<4,>=2.5 in /usr/local/lib/python3.10/dist-packages (from requests<3,>=2->langchain-community) (3.7)\n",
            "Requirement already satisfied: urllib3<3,>=1.21.1 in /usr/local/lib/python3.10/dist-packages (from requests<3,>=2->langchain-community) (2.0.7)\n",
            "Requirement already satisfied: certifi>=2017.4.17 in /usr/local/lib/python3.10/dist-packages (from requests<3,>=2->langchain-community) (2024.6.2)\n",
            "Requirement already satisfied: greenlet!=0.4.17 in /usr/local/lib/python3.10/dist-packages (from SQLAlchemy<3,>=1.4->langchain-community) (3.0.3)\n",
            "Requirement already satisfied: mypy-extensions>=0.3.0 in /usr/local/lib/python3.10/dist-packages (from typing-inspect<1,>=0.4.0->dataclasses-json<0.7,>=0.5.7->langchain-community) (1.0.0)\n"
          ]
        }
      ]
    },
    {
      "cell_type": "code",
      "execution_count": 80,
      "metadata": {
        "id": "RsJ88c1_7yPj"
      },
      "outputs": [],
      "source": [
        "from re import VERBOSE\n",
        "retriever = SelfQueryRetriever.from_llm(\n",
        "    llm,\n",
        "    vectorstore,\n",
        "    document_content_description,\n",
        "    metadata_field_info,allowed_comparators=allowed_comparators,enable_limit=False\n",
        ")"
      ]
    },
    {
      "cell_type": "code",
      "execution_count": 81,
      "metadata": {
        "id": "OJLpqYIH9jdF"
      },
      "outputs": [],
      "source": [
        "# This example only specifies a filter\n",
        "# retriever.get_relevant_documents(\"{What are some movies about dream}\")"
      ]
    },
    {
      "cell_type": "code",
      "source": [
        "# flake8: noqa\n",
        "from langchain_core.prompts import PromptTemplate\n",
        "\n",
        "prompt_template = \"\"\"Use the following pieces of context to answer the question at the end. If you don't know the answer, just say that you don't know, don't try to make up an answer.\n",
        "\n",
        "{context}\n",
        "\n",
        "Question: {question}\n",
        "Helpful Answer:\"\"\"\n",
        "PROMPT = PromptTemplate(\n",
        "    template=prompt_template, input_variables=[\"context\", \"question\"]\n",
        ")"
      ],
      "metadata": {
        "id": "CPlBmyop8EhS"
      },
      "execution_count": 82,
      "outputs": []
    },
    {
      "cell_type": "code",
      "source": [
        "PROMPT"
      ],
      "metadata": {
        "id": "HeAeC8px-Lt1",
        "colab": {
          "base_uri": "https://localhost:8080/"
        },
        "outputId": "c64df101-f9dc-4d32-b769-fdfe9a7af8a0"
      },
      "execution_count": 83,
      "outputs": [
        {
          "output_type": "execute_result",
          "data": {
            "text/plain": [
              "PromptTemplate(input_variables=['context', 'question'], template=\"Use the following pieces of context to answer the question at the end. If you don't know the answer, just say that you don't know, don't try to make up an answer.\\n\\n{context}\\n\\nQuestion: {question}\\nHelpful Answer:\")"
            ]
          },
          "metadata": {},
          "execution_count": 83
        }
      ]
    },
    {
      "cell_type": "code",
      "execution_count": 84,
      "metadata": {
        "id": "pPameE5nRIaf"
      },
      "outputs": [],
      "source": [
        "from langchain.chains.query_constructor.base import (\n",
        "    StructuredQueryOutputParser,\n",
        "    get_query_constructor_prompt,\n",
        ")\n",
        "\n",
        "prompt = get_query_constructor_prompt(\n",
        "    document_content_description,\n",
        "    metadata_field_info,\n",
        ")\n",
        "output_parser = StructuredQueryOutputParser.from_components()\n",
        "query_constructor = prompt | llm | output_parser"
      ]
    },
    {
      "cell_type": "code",
      "source": [
        "print(prompt.format(query=\"i want redmi note 9 pro max\"))\n",
        "# vectorstore.similarity_search(\"I want redme info\",k=1)\n",
        "query_constructor.invoke(\n",
        "query_constructor\n",
        ")\n"
      ],
      "metadata": {
        "id": "yqRbbvdphyqI",
        "colab": {
          "base_uri": "https://localhost:8080/"
        },
        "outputId": "582ca0c7-da75-4ca4-aaf8-f5ccad046aa2"
      },
      "execution_count": 87,
      "outputs": [
        {
          "output_type": "stream",
          "name": "stdout",
          "text": [
            "Your goal is to structure the user's query to match the request schema provided below.\n",
            "\n",
            "<< Structured Request Schema >>\n",
            "When responding use a markdown code snippet with a JSON object formatted in the following schema:\n",
            "\n",
            "```json\n",
            "{\n",
            "    \"query\": string \\ text string to compare to document contents\n",
            "    \"filter\": string \\ logical condition statement for filtering documents\n",
            "}\n",
            "```\n",
            "\n",
            "The query string should contain only text that is expected to match the contents of documents. Any conditions in the filter should not be mentioned in the query as well.\n",
            "\n",
            "A logical condition statement is composed of one or more comparison and logical operation statements.\n",
            "\n",
            "A comparison statement takes the form: `comp(attr, val)`:\n",
            "- `comp` (eq | ne | gt | gte | lt | lte | contain | like | in | nin): comparator\n",
            "- `attr` (string):  name of attribute to apply the comparison to\n",
            "- `val` (string): is the comparison value\n",
            "\n",
            "A logical operation statement takes the form `op(statement1, statement2, ...)`:\n",
            "- `op` (and | or | not): logical operator\n",
            "- `statement1`, `statement2`, ... (comparison statements or logical operation statements): one or more statements to apply the operation to\n",
            "\n",
            "Make sure that you only use the comparators and logical operators listed above and no others.\n",
            "Make sure that filters only refer to attributes that exist in the data source.\n",
            "Make sure that filters only use the attributed names with its function names if there are functions applied on them.\n",
            "Make sure that filters only use format `YYYY-MM-DD` when handling date data typed values.\n",
            "Make sure that filters take into account the descriptions of attributes and only make comparisons that are feasible given the type of data being stored.\n",
            "Make sure that filters are only used as needed. If there are no filters that should be applied return \"NO_FILTER\" for the filter value.\n",
            "\n",
            "<< Example 1. >>\n",
            "Data Source:\n",
            "```json\n",
            "{\n",
            "    \"content\": \"Lyrics of a song\",\n",
            "    \"attributes\": {\n",
            "        \"artist\": {\n",
            "            \"type\": \"string\",\n",
            "            \"description\": \"Name of the song artist\"\n",
            "        },\n",
            "        \"length\": {\n",
            "            \"type\": \"integer\",\n",
            "            \"description\": \"Length of the song in seconds\"\n",
            "        },\n",
            "        \"genre\": {\n",
            "            \"type\": \"string\",\n",
            "            \"description\": \"The song genre, one of \"pop\", \"rock\" or \"rap\"\"\n",
            "        }\n",
            "    }\n",
            "}\n",
            "```\n",
            "\n",
            "User Query:\n",
            "What are songs by Taylor Swift or Katy Perry about teenage romance under 3 minutes long in the dance pop genre\n",
            "\n",
            "Structured Request:\n",
            "```json\n",
            "{\n",
            "    \"query\": \"teenager love\",\n",
            "    \"filter\": \"and(or(eq(\\\"artist\\\", \\\"Taylor Swift\\\"), eq(\\\"artist\\\", \\\"Katy Perry\\\")), lt(\\\"length\\\", 180), eq(\\\"genre\\\", \\\"pop\\\"))\"\n",
            "}\n",
            "```\n",
            "\n",
            "\n",
            "<< Example 2. >>\n",
            "Data Source:\n",
            "```json\n",
            "{\n",
            "    \"content\": \"Lyrics of a song\",\n",
            "    \"attributes\": {\n",
            "        \"artist\": {\n",
            "            \"type\": \"string\",\n",
            "            \"description\": \"Name of the song artist\"\n",
            "        },\n",
            "        \"length\": {\n",
            "            \"type\": \"integer\",\n",
            "            \"description\": \"Length of the song in seconds\"\n",
            "        },\n",
            "        \"genre\": {\n",
            "            \"type\": \"string\",\n",
            "            \"description\": \"The song genre, one of \"pop\", \"rock\" or \"rap\"\"\n",
            "        }\n",
            "    }\n",
            "}\n",
            "```\n",
            "\n",
            "User Query:\n",
            "What are songs that were not published on Spotify\n",
            "\n",
            "Structured Request:\n",
            "```json\n",
            "{\n",
            "    \"query\": \"\",\n",
            "    \"filter\": \"NO_FILTER\"\n",
            "}\n",
            "```\n",
            "\n",
            "\n",
            "<< Example 3. >>\n",
            "Data Source:\n",
            "```json\n",
            "{\n",
            "    \"content\": \"Brief summary of a movie\",\n",
            "    \"attributes\": {\n",
            "    \"title\": {\n",
            "        \"description\": \"Title of the product\",\n",
            "        \"type\": \"string\"\n",
            "    },\n",
            "    \"url\": {\n",
            "        \"description\": \"URL of the product page\",\n",
            "        \"type\": \"string\"\n",
            "    },\n",
            "    \"pid\": {\n",
            "        \"description\": \"Product ID\",\n",
            "        \"type\": \"string\"\n",
            "    },\n",
            "    \"formatted_url\": {\n",
            "        \"description\": \"Formatted URL of the product page\",\n",
            "        \"type\": \"string\"\n",
            "    },\n",
            "    \"brand\": {\n",
            "        \"description\": \"Brand of the product\",\n",
            "        \"type\": \"string\"\n",
            "    },\n",
            "    \"stock\": {\n",
            "        \"description\": \"Stock status of the product\",\n",
            "        \"type\": \"string\"\n",
            "    },\n",
            "    \"f_assured\": {\n",
            "        \"description\": \"Flipkart assured status\",\n",
            "        \"type\": \"boolean\"\n",
            "    },\n",
            "    \"price\": {\n",
            "        \"description\": \"Price of the product\",\n",
            "        \"type\": \"float\"\n",
            "    },\n",
            "    \"currency\": {\n",
            "        \"description\": \"Currency of the price\",\n",
            "        \"type\": \"string\"\n",
            "    },\n",
            "    \"original_price\": {\n",
            "        \"description\": \"Original price of the product\",\n",
            "        \"type\": \"float\"\n",
            "    },\n",
            "    \"discount\": {\n",
            "        \"description\": \"Discount on the product\",\n",
            "        \"type\": \"string\"\n",
            "    }\n",
            "}\n",
            "}\n",
            "```\n",
            "\n",
            "User Query:\n",
            "i want redmi note 9 pro max\n",
            "\n",
            "Structured Request:\n",
            "\n"
          ]
        },
        {
          "output_type": "execute_result",
          "data": {
            "text/plain": [
              "[Document(page_content='title quadronic back cover for redmi note 9 pro max, smoke translucent shock proof smooth rubberized matte hard back case cover\\xa0\\xa0(green). url https://www.flipkart.com/quadronic-back-cover-redmi-note-9-pro-max-smoke-translucent-shock-proof-smooth-rubberized-matte-hard-case/p/itm89ba80122e631. pid itm89ba80122e631. formatted_url https://www.flipkart.com/product/p/itm89ba80122e631. brand 0. stock hurry, only a few left!. f_assured true. price 179. currency inr. original_price 398. discount 55% off', metadata={'title': 'quadronic Back Cover for Redmi Note 9 Pro Max, Smoke Translucent Shock Proof Smooth Rubberized Matte Hard Back Case Cover\\xa0\\xa0(Green)', 'url': 'https://www.flipkart.com/quadronic-back-cover-redmi-note-9-pro-max-smoke-translucent-shock-proof-smooth-rubberized-matte-hard-case/p/itm89ba80122e631', 'pid': 'itm89ba80122e631', 'formatted_url': 'https://www.flipkart.com/product/p/itm89ba80122e631', 'brand': '0', 'stock': 'Hurry, Only a few left!', 'f_assured': True, 'price': '179', 'currency': 'INR', 'original_price': '398', 'discount': '55% off', '_id': '93f697a7da6b452fa259665ce3903e66', '_collection_name': 'ecomercedata'})]"
            ]
          },
          "metadata": {},
          "execution_count": 87
        }
      ]
    },
    {
      "cell_type": "code",
      "source": [],
      "metadata": {
        "id": "JSS6RV8Lr66J"
      },
      "execution_count": null,
      "outputs": []
    }
  ],
  "metadata": {
    "accelerator": "GPU",
    "colab": {
      "gpuType": "T4",
      "provenance": []
    },
    "kernelspec": {
      "display_name": "Python 3",
      "name": "python3"
    },
    "language_info": {
      "name": "python"
    }
  },
  "nbformat": 4,
  "nbformat_minor": 0
}